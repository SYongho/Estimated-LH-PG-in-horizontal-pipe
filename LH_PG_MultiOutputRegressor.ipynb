{
  "nbformat": 4,
  "nbformat_minor": 0,
  "metadata": {
    "colab": {
      "name": "LH-PG_DNN 10inputs MultioutputRegressor",
      "provenance": [],
      "collapsed_sections": [
        "FVHFTVbeh393"
      ],
      "toc_visible": true,
      "authorship_tag": "ABX9TyOVlG6Cw5l9ffLdGH1J/s1D",
      "include_colab_link": true
    },
    "kernelspec": {
      "name": "python3",
      "display_name": "Python 3"
    },
    "accelerator": "GPU"
  },
  "cells": [
    {
      "cell_type": "markdown",
      "metadata": {
        "id": "view-in-github",
        "colab_type": "text"
      },
      "source": [
        "<a href=\"https://colab.research.google.com/github/SYongho/Estimated-LH-PG-in-horizontal-pipe/blob/10-Inputs/LH_PG_MultiOutputRegressor.ipynb\" target=\"_parent\"><img src=\"https://colab.research.google.com/assets/colab-badge.svg\" alt=\"Open In Colab\"/></a>"
      ]
    },
    {
      "cell_type": "markdown",
      "metadata": {
        "id": "FVHFTVbeh393"
      },
      "source": [
        "# Import"
      ]
    },
    {
      "cell_type": "code",
      "metadata": {
        "id": "j-odbqLX89MP"
      },
      "source": [
        "import pandas as pd\n",
        "import numpy as np\n",
        "import matplotlib.pyplot as plt\n",
        "\n",
        "from sklearn import metrics\n",
        "from sklearn.model_selection import train_test_split\n",
        "from sklearn.metrics import mean_absolute_error\n",
        "from time import strftime\n",
        "from sklearn.feature_selection import SelectFromModel, RFE\n",
        "from sklearn.ensemble import RandomForestRegressor, ExtraTreesRegressor\n",
        "from sklearn.linear_model import LogisticRegression\n",
        "from sklearn.multioutput import MultiOutputRegressor"
      ],
      "execution_count": 11,
      "outputs": []
    },
    {
      "cell_type": "markdown",
      "metadata": {
        "id": "_ynI-E1IANS1"
      },
      "source": [
        "# Data split"
      ]
    },
    {
      "cell_type": "code",
      "metadata": {
        "id": "kR6iUcxVnK0k"
      },
      "source": [
        "prepared_data = pd.read_csv('prepared_data.csv')\n",
        "\n",
        "csv_inp = prepared_data.iloc[:, :10]\n",
        "csv_out = prepared_data.iloc[:, 10:]\n",
        "\n",
        "train_inp, val_inp, train_out, val_out = train_test_split(csv_inp, csv_out, test_size=0.2, random_state=38)\n",
        "train_inp, test_inp, train_out, test_out = train_test_split(train_inp, train_out, test_size=0.2, random_state=38)"
      ],
      "execution_count": 4,
      "outputs": []
    },
    {
      "cell_type": "markdown",
      "metadata": {
        "id": "Ub-O6o1nRvzM"
      },
      "source": [
        "# Prediction"
      ]
    },
    {
      "cell_type": "code",
      "metadata": {
        "colab": {
          "base_uri": "https://localhost:8080/"
        },
        "id": "_b7FNG1fLp2B",
        "outputId": "daac918c-13fb-4d79-9d12-c8ff10349159"
      },
      "source": [
        "test_out = test_out.reset_index(drop=True)\n",
        "\n",
        "RF = RandomForestRegressor()\n",
        "MR = MultiOutputRegressor(estimator=RF)\n",
        "MR.fit(train_inp, train_out)\n",
        "score = MR.score(train_inp, train_out)\n",
        "print('Training score: ', score)\n",
        "\n",
        "test_pred = pd.DataFrame(MR.predict(test_inp), columns=train_out.columns)\n",
        "\n",
        "test_out_LH = test_out.iloc[:, 0]\n",
        "test_out_PG = test_out.iloc[:, 1]\n",
        "test_pred_LH = test_pred.iloc[:, 0]\n",
        "test_pred_PG = test_pred.iloc[:, 1]"
      ],
      "execution_count": 5,
      "outputs": [
        {
          "output_type": "stream",
          "text": [
            "Training score:  0.9938391069206908\n"
          ],
          "name": "stdout"
        }
      ]
    },
    {
      "cell_type": "code",
      "metadata": {
        "id": "FLqWFKHvOCpF"
      },
      "source": [
        "def RMSE(targets, predictions):\n",
        "  return np.sqrt(np.mean(np.square(targets-predictions)))\n",
        "\n",
        "def MAPE(targets, predictions):\n",
        "  return np.mean(np.abs((targets-predictions) / targets)) * 100\n",
        "\n",
        "def MSE(targets, predictions):\n",
        "  return np.mean(np.square(targets-predictions))"
      ],
      "execution_count": 7,
      "outputs": []
    },
    {
      "cell_type": "markdown",
      "metadata": {
        "id": "E_HBkjKOPZ8m"
      },
      "source": [
        "## Error"
      ]
    },
    {
      "cell_type": "code",
      "metadata": {
        "id": "j9ODMGUtPLWV"
      },
      "source": [
        "def Error_Df():\n",
        "  df = [\n",
        "        RMSE(test_out_LH, test_pred_LH), RMSE(test_out_PG, test_pred_PG),\n",
        "        MAPE(test_out_LH, test_pred_LH), MAPE(test_out_PG, test_pred_PG),\n",
        "        MSE(test_out_LH, test_pred_LH), MSE(test_out_PG, test_pred_PG),\n",
        "        metrics.r2_score(test_out_LH, test_pred_LH), metrics.r2_score(test_out_PG, test_pred_PG)]\n",
        "  error_col = ['pred_LH RMSE', 'pred_PG RMSE', 'pred_LH MAPE', 'pred_PG MAPE', 'pred_LH MSE', 'pred_PG MSE', 'LH_R2 score', 'PG_R2 score']\n",
        "\n",
        "  return pd.DataFrame([df], columns=error_col)"
      ],
      "execution_count": 12,
      "outputs": []
    },
    {
      "cell_type": "code",
      "metadata": {
        "colab": {
          "base_uri": "https://localhost:8080/",
          "height": 80
        },
        "id": "b1VWTBpbesVi",
        "outputId": "e270a099-cd70-4789-babe-d025a5a705bb"
      },
      "source": [
        "Error_Df()"
      ],
      "execution_count": 13,
      "outputs": [
        {
          "output_type": "execute_result",
          "data": {
            "text/html": [
              "<div>\n",
              "<style scoped>\n",
              "    .dataframe tbody tr th:only-of-type {\n",
              "        vertical-align: middle;\n",
              "    }\n",
              "\n",
              "    .dataframe tbody tr th {\n",
              "        vertical-align: top;\n",
              "    }\n",
              "\n",
              "    .dataframe thead th {\n",
              "        text-align: right;\n",
              "    }\n",
              "</style>\n",
              "<table border=\"1\" class=\"dataframe\">\n",
              "  <thead>\n",
              "    <tr style=\"text-align: right;\">\n",
              "      <th></th>\n",
              "      <th>pred_LH RMSE</th>\n",
              "      <th>pred_PG RMSE</th>\n",
              "      <th>pred_LH MAPE</th>\n",
              "      <th>pred_PG MAPE</th>\n",
              "      <th>pred_LH MSE</th>\n",
              "      <th>pred_PG MSE</th>\n",
              "      <th>LH_R2 score</th>\n",
              "      <th>PG_R2 score</th>\n",
              "    </tr>\n",
              "  </thead>\n",
              "  <tbody>\n",
              "    <tr>\n",
              "      <th>0</th>\n",
              "      <td>0.038197</td>\n",
              "      <td>756.484613</td>\n",
              "      <td>inf</td>\n",
              "      <td>55.926649</td>\n",
              "      <td>0.001459</td>\n",
              "      <td>572268.968992</td>\n",
              "      <td>0.978133</td>\n",
              "      <td>0.892476</td>\n",
              "    </tr>\n",
              "  </tbody>\n",
              "</table>\n",
              "</div>"
            ],
            "text/plain": [
              "   pred_LH RMSE  pred_PG RMSE  ...  LH_R2 score  PG_R2 score\n",
              "0      0.038197    756.484613  ...     0.978133     0.892476\n",
              "\n",
              "[1 rows x 8 columns]"
            ]
          },
          "metadata": {
            "tags": []
          },
          "execution_count": 13
        }
      ]
    },
    {
      "cell_type": "markdown",
      "metadata": {
        "id": "FvWE5wE7fOGO"
      },
      "source": [
        "## Plot"
      ]
    },
    {
      "cell_type": "code",
      "metadata": {
        "id": "obgQm1m7lfnJ"
      },
      "source": [
        "def plot_compare_LH(true, prediction):\n",
        "  plt.scatter(true, prediction, c='k', s=1.8)\n",
        "  plt.xlabel('True Values')\n",
        "  plt.ylabel('Predictions')\n",
        "  plt.axis('square')\n",
        "  plt.xlim([0,1])\n",
        "  plt.ylim([0,1])\n",
        "  _ = plt.plot([-100,100], [-100,100])\n",
        "\n",
        "def plot_compare_PG(true, prediction):\n",
        "  plt.scatter(true, prediction, c='k', s=1.8)\n",
        "  plt.xlabel('True Values')\n",
        "  plt.ylabel('Predictions')\n",
        "  plt.axis('square')\n",
        "  plt.xlim([0,max(true)-(max(true)%10)+1000])\n",
        "  plt.ylim([0,max(true)-(max(true)%10)+1000])\n",
        "  _ = plt.plot([-20000,20000], [-20000,20000])"
      ],
      "execution_count": 14,
      "outputs": []
    },
    {
      "cell_type": "code",
      "metadata": {
        "colab": {
          "base_uri": "https://localhost:8080/",
          "height": 685
        },
        "id": "1p85Kcc7euUm",
        "outputId": "03e81b0c-69b8-47e0-e746-bba1d37dbeeb"
      },
      "source": [
        "plot_compare_LH(test_out_LH, test_pred_LH)\n",
        "pd.DataFrame({'test_out_LH':test_out_LH,\n",
        "              'test_pred_LH':test_pred_LH})"
      ],
      "execution_count": 15,
      "outputs": [
        {
          "output_type": "execute_result",
          "data": {
            "text/html": [
              "<div>\n",
              "<style scoped>\n",
              "    .dataframe tbody tr th:only-of-type {\n",
              "        vertical-align: middle;\n",
              "    }\n",
              "\n",
              "    .dataframe tbody tr th {\n",
              "        vertical-align: top;\n",
              "    }\n",
              "\n",
              "    .dataframe thead th {\n",
              "        text-align: right;\n",
              "    }\n",
              "</style>\n",
              "<table border=\"1\" class=\"dataframe\">\n",
              "  <thead>\n",
              "    <tr style=\"text-align: right;\">\n",
              "      <th></th>\n",
              "      <th>test_out_LH</th>\n",
              "      <th>test_pred_LH</th>\n",
              "    </tr>\n",
              "  </thead>\n",
              "  <tbody>\n",
              "    <tr>\n",
              "      <th>0</th>\n",
              "      <td>0.05</td>\n",
              "      <td>0.0570</td>\n",
              "    </tr>\n",
              "    <tr>\n",
              "      <th>1</th>\n",
              "      <td>0.06</td>\n",
              "      <td>0.0656</td>\n",
              "    </tr>\n",
              "    <tr>\n",
              "      <th>2</th>\n",
              "      <td>0.13</td>\n",
              "      <td>0.1236</td>\n",
              "    </tr>\n",
              "    <tr>\n",
              "      <th>3</th>\n",
              "      <td>0.28</td>\n",
              "      <td>0.2639</td>\n",
              "    </tr>\n",
              "    <tr>\n",
              "      <th>4</th>\n",
              "      <td>0.59</td>\n",
              "      <td>0.5964</td>\n",
              "    </tr>\n",
              "    <tr>\n",
              "      <th>...</th>\n",
              "      <td>...</td>\n",
              "      <td>...</td>\n",
              "    </tr>\n",
              "    <tr>\n",
              "      <th>119</th>\n",
              "      <td>0.06</td>\n",
              "      <td>0.0427</td>\n",
              "    </tr>\n",
              "    <tr>\n",
              "      <th>120</th>\n",
              "      <td>0.61</td>\n",
              "      <td>0.6429</td>\n",
              "    </tr>\n",
              "    <tr>\n",
              "      <th>121</th>\n",
              "      <td>0.02</td>\n",
              "      <td>0.0267</td>\n",
              "    </tr>\n",
              "    <tr>\n",
              "      <th>122</th>\n",
              "      <td>0.01</td>\n",
              "      <td>0.0169</td>\n",
              "    </tr>\n",
              "    <tr>\n",
              "      <th>123</th>\n",
              "      <td>0.56</td>\n",
              "      <td>0.6078</td>\n",
              "    </tr>\n",
              "  </tbody>\n",
              "</table>\n",
              "<p>124 rows × 2 columns</p>\n",
              "</div>"
            ],
            "text/plain": [
              "     test_out_LH  test_pred_LH\n",
              "0           0.05        0.0570\n",
              "1           0.06        0.0656\n",
              "2           0.13        0.1236\n",
              "3           0.28        0.2639\n",
              "4           0.59        0.5964\n",
              "..           ...           ...\n",
              "119         0.06        0.0427\n",
              "120         0.61        0.6429\n",
              "121         0.02        0.0267\n",
              "122         0.01        0.0169\n",
              "123         0.56        0.6078\n",
              "\n",
              "[124 rows x 2 columns]"
            ]
          },
          "metadata": {
            "tags": []
          },
          "execution_count": 15
        },
        {
          "output_type": "display_data",
          "data": {
            "image/png": "[encoded data removed]",
            "text/plain": [
              "<Figure size 432x288 with 1 Axes>"
            ]
          },
          "metadata": {
            "tags": [],
            "needs_background": "light"
          }
        }
      ]
    },
    {
      "cell_type": "code",
      "metadata": {
        "id": "1md9QFdwkF3R",
        "colab": {
          "base_uri": "https://localhost:8080/",
          "height": 681
        },
        "outputId": "4b075169-dc33-47db-e3ee-6879483db81d"
      },
      "source": [
        "plot_compare_PG(test_out_PG, test_pred_PG)\n",
        "pd.DataFrame({'test_out_PG':test_out_PG,\n",
        "              'test_pred_PG':test_pred_PG})"
      ],
      "execution_count": 16,
      "outputs": [
        {
          "output_type": "execute_result",
          "data": {
            "text/html": [
              "<div>\n",
              "<style scoped>\n",
              "    .dataframe tbody tr th:only-of-type {\n",
              "        vertical-align: middle;\n",
              "    }\n",
              "\n",
              "    .dataframe tbody tr th {\n",
              "        vertical-align: top;\n",
              "    }\n",
              "\n",
              "    .dataframe thead th {\n",
              "        text-align: right;\n",
              "    }\n",
              "</style>\n",
              "<table border=\"1\" class=\"dataframe\">\n",
              "  <thead>\n",
              "    <tr style=\"text-align: right;\">\n",
              "      <th></th>\n",
              "      <th>test_out_PG</th>\n",
              "      <th>test_pred_PG</th>\n",
              "    </tr>\n",
              "  </thead>\n",
              "  <tbody>\n",
              "    <tr>\n",
              "      <th>0</th>\n",
              "      <td>75.00</td>\n",
              "      <td>79.4900</td>\n",
              "    </tr>\n",
              "    <tr>\n",
              "      <th>1</th>\n",
              "      <td>9.95</td>\n",
              "      <td>13.8575</td>\n",
              "    </tr>\n",
              "    <tr>\n",
              "      <th>2</th>\n",
              "      <td>79.00</td>\n",
              "      <td>78.3932</td>\n",
              "    </tr>\n",
              "    <tr>\n",
              "      <th>3</th>\n",
              "      <td>836.00</td>\n",
              "      <td>595.0292</td>\n",
              "    </tr>\n",
              "    <tr>\n",
              "      <th>4</th>\n",
              "      <td>170.00</td>\n",
              "      <td>200.4698</td>\n",
              "    </tr>\n",
              "    <tr>\n",
              "      <th>...</th>\n",
              "      <td>...</td>\n",
              "      <td>...</td>\n",
              "    </tr>\n",
              "    <tr>\n",
              "      <th>119</th>\n",
              "      <td>99.00</td>\n",
              "      <td>67.1000</td>\n",
              "    </tr>\n",
              "    <tr>\n",
              "      <th>120</th>\n",
              "      <td>3089.00</td>\n",
              "      <td>2889.1700</td>\n",
              "    </tr>\n",
              "    <tr>\n",
              "      <th>121</th>\n",
              "      <td>198.00</td>\n",
              "      <td>208.2000</td>\n",
              "    </tr>\n",
              "    <tr>\n",
              "      <th>122</th>\n",
              "      <td>76.00</td>\n",
              "      <td>71.2990</td>\n",
              "    </tr>\n",
              "    <tr>\n",
              "      <th>123</th>\n",
              "      <td>1140.00</td>\n",
              "      <td>1096.8300</td>\n",
              "    </tr>\n",
              "  </tbody>\n",
              "</table>\n",
              "<p>124 rows × 2 columns</p>\n",
              "</div>"
            ],
            "text/plain": [
              "     test_out_PG  test_pred_PG\n",
              "0          75.00       79.4900\n",
              "1           9.95       13.8575\n",
              "2          79.00       78.3932\n",
              "3         836.00      595.0292\n",
              "4         170.00      200.4698\n",
              "..           ...           ...\n",
              "119        99.00       67.1000\n",
              "120      3089.00     2889.1700\n",
              "121       198.00      208.2000\n",
              "122        76.00       71.2990\n",
              "123      1140.00     1096.8300\n",
              "\n",
              "[124 rows x 2 columns]"
            ]
          },
          "metadata": {
            "tags": []
          },
          "execution_count": 16
        },
        {
          "output_type": "display_data",
          "data": {
            "image/png": "[encoded data removed]",
            "text/plain": [
              "<Figure size 432x288 with 1 Axes>"
            ]
          },
          "metadata": {
            "tags": [],
            "needs_background": "light"
          }
        }
      ]
    }
  ]
}