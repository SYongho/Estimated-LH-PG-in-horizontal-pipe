{
  "nbformat": 4,
  "nbformat_minor": 0,
  "metadata": {
    "colab": {
      "name": "Class로 만든 Ensemble 모델",
      "provenance": [],
      "collapsed_sections": [],
      "toc_visible": true,
      "authorship_tag": "ABX9TyPax255RMZnDZxf0zAtTwsy",
      "include_colab_link": true
    },
    "kernelspec": {
      "name": "python3",
      "display_name": "Python 3"
    },
    "accelerator": "GPU"
  },
  "cells": [
    {
      "cell_type": "markdown",
      "metadata": {
        "id": "view-in-github",
        "colab_type": "text"
      },
      "source": [
        "<a href=\"https://colab.research.google.com/github/SYongho/Estimated-LH-PG-in-horizontal-pipe/blob/Ensemble/Ensemble_with_class.ipynb\" target=\"_parent\"><img src=\"https://colab.research.google.com/assets/colab-badge.svg\" alt=\"Open In Colab\"/></a>"
      ]
    },
    {
      "cell_type": "code",
      "metadata": {
        "id": "uiZQHxxmK97R"
      },
      "source": [
        "import pandas as pd\n",
        "import numpy as np\n",
        "import matplotlib.pyplot as plt\n",
        "%matplotlib inline\n",
        " \n",
        "from sklearn import metrics\n",
        "from sklearn.model_selection import train_test_split\n",
        "from sklearn.metrics import mean_absolute_error\n",
        " \n",
        "from sklearn.ensemble import RandomForestRegressor\n",
        "from sklearn.ensemble import AdaBoostRegressor\n",
        "from sklearn.tree import DecisionTreeRegressor\n",
        "import xgboost as xgb\n",
        "import lightgbm as lgb\n",
        " \n",
        "!pip install catboost\n",
        "import catboost as cb\n",
        "from catboost import CatBoostRegressor"
      ],
      "execution_count": null,
      "outputs": []
    },
    {
      "cell_type": "markdown",
      "metadata": {
        "id": "PkJbFwZdUC9R"
      },
      "source": [
        "## Data"
      ]
    },
    {
      "cell_type": "code",
      "metadata": {
        "id": "BJUwal3SLI0V"
      },
      "source": [
        "csv_inp = pd.read_csv('ins.csv')\n",
        "csv_out = pd.read_csv('outs.csv')\n",
        "train_inp, test_inp, train_out, test_out = train_test_split(csv_inp, csv_out, test_size=0.2, random_state=38)\n",
        "\n",
        "test_inp = test_inp.reset_index(drop=True)\n",
        "test_out = test_out.reset_index(drop=True)"
      ],
      "execution_count": null,
      "outputs": []
    },
    {
      "cell_type": "code",
      "metadata": {
        "id": "DrMAfxA7IOCu"
      },
      "source": [
        "pp_data = pd.read_csv('prepared_data.csv')\n",
        "inputs = pd.DataFrame(pp_data.iloc[:, [7,4,1,8,5]])\n",
        "inputs.columns = train_inp.columns\n",
        "outputs = pp_data.iloc[:, 10:]\n",
        "outputs.columns = train_out.columns\n",
        "tr_inp, te_inp, tr_out, te_out = train_test_split(inputs, outputs, test_size=0.2, random_state=38)\n",
        "\n",
        "te_inp = te_inp.reset_index(drop=True)\n",
        "te_out = te_out.reset_index(drop=True)"
      ],
      "execution_count": null,
      "outputs": []
    },
    {
      "cell_type": "markdown",
      "metadata": {
        "id": "KclnfeHSlYwI"
      },
      "source": [
        "### efefef"
      ]
    },
    {
      "cell_type": "code",
      "metadata": {
        "id": "jshUqekAb9K3"
      },
      "source": [
        "test_inp = pd.read_csv('ins.csv')\n",
        "test_out = pd.read_csv('outs.csv')\n",
        "\n",
        "clean_data = pd.read_csv('clean_data.csv')\n",
        "train_inp = clean_data.iloc[:, :5]\n",
        "train_out = clean_data.iloc[:, 5:]\n",
        "train_inp, val_inp, train_out, val_out = train_test_split(train_inp, train_out, test_size=0.2, random_state=38)\n",
        "\n",
        "val_inp = val_inp.reset_index(drop=True)\n",
        "val_out = val_out.reset_index(drop=True)"
      ],
      "execution_count": 2,
      "outputs": []
    },
    {
      "cell_type": "markdown",
      "metadata": {
        "id": "wEQa_Vx6UFjr"
      },
      "source": [
        "## Model Class"
      ]
    },
    {
      "cell_type": "code",
      "metadata": {
        "id": "4Q1xsY4-0nNh"
      },
      "source": [
        "class ML_for_LH_PG():\n",
        "  def __init__(self):\n",
        "    self.val_inp = val_inp\n",
        "    self.val_out = val_out\n",
        "    self.val_out_LH = pd.DataFrame(self.val_out.iloc[:,0].reset_index(drop=True))\n",
        "    self.val_out_PG = pd.DataFrame(self.val_out.iloc[:,1].reset_index(drop=True))\n",
        "\n",
        "    self.train_inp = train_inp\n",
        "    self.train_out = train_out\n",
        "    self.train_out_LH = pd.DataFrame(self.train_out.iloc[:,0].reset_index(drop=True))\n",
        "    self.train_out_PG = pd.DataFrame(self.train_out.iloc[:,1].reset_index(drop=True))\n",
        "\n",
        "  def RMSE(self, targets, predictions):\n",
        "    return np.sqrt(np.mean(np.square(targets-predictions)))\n",
        "\n",
        "  def MAPE(self, targets, predictions):\n",
        "    return np.mean(np.abs((targets-predictions)) / targets) * 100\n",
        "\n",
        "  def MSE(self, targets, predictions):\n",
        "    return np.mean(np.square(targets-predictions))\n",
        "\n",
        "  def test_Error(self, test_out, col_1, col_2):\n",
        "    test_out = test_out.reset_index(drop=True)\n",
        "    test_out_LH = pd.DataFrame(test_out.iloc[:,0])\n",
        "    test_out_PG = pd.DataFrame(test_out.iloc[:,1])\n",
        "\n",
        "    df = [self.RMSE(test_out_LH, col_1)[0], self.RMSE(test_out_PG, col_2)[0],\n",
        "          self.MAPE(test_out_LH, col_1)[0], self.MAPE(test_out_PG, col_2)[0],\n",
        "          self.MSE(test_out_LH, col_1)[0], self.MSE(test_out_PG, col_2)[0],\n",
        "          metrics.r2_score(test_out_LH, col_1), metrics.r2_score(test_out_PG, col_2)]\n",
        "    error_col = ['pred_LH RMSE', 'pred_PG RMSE', 'pred_LH MAPE', 'pred_PG MAPE', 'pred_LH MSE', 'pred_PG MSE', 'LH_R2 score', 'PG_R2 score']\n",
        "    return pd.DataFrame([df], columns=error_col)\n",
        "\n",
        "\n",
        "  def RF(self, test_inp):\n",
        "    model_RF = RandomForestRegressor(n_estimators=300, max_depth = 20)\n",
        "    fit = model_RF.fit(self.train_inp, self.train_out_LH)\n",
        "    test_pred_LH = pd.DataFrame(fit.predict(test_inp), columns=self.train_out_LH.columns)\n",
        "    \n",
        "    model_RF = RandomForestRegressor(n_estimators=300, max_depth = 20)\n",
        "    fit = model_RF.fit(self.train_inp, self.train_out_PG)\n",
        "    test_pred_PG = pd.DataFrame(fit.predict(test_inp), columns=self.train_out_PG.columns)\n",
        "    return test_pred_LH, test_pred_PG\n",
        "\n",
        "  def AdaB(self, test_inp):\n",
        "    tree_model = DecisionTreeRegressor(max_depth=20)\n",
        "    model_ADB = AdaBoostRegressor(base_estimator=tree_model, n_estimators=300)\n",
        "    fit = model_ADB.fit(self.train_inp, self.train_out_LH)\n",
        "    test_pred_LH = pd.DataFrame(fit.predict(test_inp), columns=self.train_out_LH.columns)\n",
        "\n",
        "    tree_model = DecisionTreeRegressor(max_depth=20)\n",
        "    model_ADB = AdaBoostRegressor(base_estimator=tree_model, n_estimators=300)\n",
        "    fit = model_ADB.fit(self.train_inp, self.train_out_PG)\n",
        "    test_pred_PG = pd.DataFrame(fit.predict(test_inp), columns=self.train_out_PG.columns)\n",
        "    return test_pred_LH, test_pred_PG\n",
        "\n",
        "  def XGBReg(self, test_inp):\n",
        "    xgb_train = xgb.DMatrix(data=self.train_inp, label=self.train_out_LH)\n",
        "    xgb_model = xgb.XGBRegressor(n_estimators=800, max_depth=32, learning_rate=0.03, objective='reg:squarederror',\n",
        "                                 reg_lambda=1.5, reg_alpha=0.5, early_stopping_round=5)\n",
        "    fit = xgb_model.fit(self.train_inp, self.train_out_LH, eval_set=[(self.val_inp, self.val_out_LH)], verbose=False)\n",
        "    test_pred_LH = pd.DataFrame(fit.predict(test_inp), columns=self.train_out_LH.columns)\n",
        "\n",
        "    xgb_train = xgb.DMatrix(data=self.train_inp, label=self.train_out_PG)\n",
        "    xgb_model = xgb.XGBRegressor(n_estimators=800, max_depth=32, learning_rate=0.03, objective='reg:squarederror',\n",
        "                                 reg_lambda=1.5, reg_alpha=0.5, early_stopping_round=5)\n",
        "    fit = xgb_model.fit(self.train_inp, self.train_out_PG, eval_set=[(self.val_inp, self.val_out_PG)], verbose=False)\n",
        "    test_pred_PG = pd.DataFrame(fit.predict(test_inp), columns=self.train_out_PG.columns)\n",
        "    return test_pred_LH, test_pred_PG\n",
        "\n",
        "  def LGBM(self, test_inp):\n",
        "    lgb_train = lgb.Dataset(data=self.train_inp, label=self.train_out_LH)\n",
        "    lgb_param = {'max_depth': 20,\n",
        "                'learning_rate': 0.01,\n",
        "                'boosting_type': 'gbdt',\n",
        "                'objective': 'regression',\n",
        "                'random_state':38}\n",
        "    lgb_model = lgb.train(params=lgb_param, train_set=lgb_train, num_boost_round=500)\n",
        "    test_pred_LH = pd.DataFrame(lgb_model.predict(test_inp), columns=self.train_out_LH.columns)\n",
        "\n",
        "    lgb_train = lgb.Dataset(data=self.train_inp, label=self.train_out_PG)\n",
        "    lgb_param = {'max_depth': 20,\n",
        "                'learning_rate': 0.01,\n",
        "                'boosting_type': 'gbdt',\n",
        "                'objective': 'regression',\n",
        "                'random_state':38}\n",
        "    lgb_model = lgb.train(params=lgb_param, train_set=lgb_train, num_boost_round=500)\n",
        "    test_pred_PG = pd.DataFrame(lgb_model.predict(test_inp), columns=self.train_out_PG.columns)\n",
        "    return test_pred_LH, test_pred_PG\n",
        "\n",
        "  def CB(self, test_inp):\n",
        "    train_inp, val_inp, train_out, val_out = train_test_split(self.train_inp, self.train_out, test_size=0.11, random_state=38)\n",
        "    train_out_LH = pd.DataFrame(train_out.iloc[:,0].reset_index(drop=True))\n",
        "    train_out_PG = pd.DataFrame(train_out.iloc[:,1].reset_index(drop=True))\n",
        "    val_out_LH = pd.DataFrame(val_out.iloc[:,0].reset_index(drop=True))\n",
        "    val_out_PG = pd.DataFrame(val_out.iloc[:,1].reset_index(drop=True))\n",
        "\n",
        "    cb_train = cb.Pool(data=train_inp, label=train_out_LH)\n",
        "    cb_model = CatBoostRegressor(n_estimators=10, max_depth=16, \n",
        "                                learning_rate=0.01, loss_function='MAE', eval_metric='RMSE')\n",
        "    cb_model.fit(cb_train, use_best_model=True, eval_set=(val_inp, val_out_LH), silent=True, plot=True)\n",
        "    test_pred_LH = pd.DataFrame(cb_model.predict(test_inp), columns=self.train_out_LH.columns)\n",
        "\n",
        "    cb_train = cb.Pool(data=self.train_inp, label=self.train_out_PG)\n",
        "    cb_model = CatBoostRegressor(n_estimators=10, max_depth=16, \n",
        "                                learning_rate=0.01, loss_function='MAE', eval_metric='RMSE')\n",
        "    cb_model.fit(cb_train, use_best_model=True, eval_set=(val_inp, val_out_PG), silent=True, plot=True)\n",
        "    test_pred_PG = pd.DataFrame(cb_model.predict(test_inp), columns=self.train_out_PG.columns)\n",
        "    return test_pred_LH, test_pred_PG\n",
        "\n",
        "  def Ens_Ens_XGBReg(self, test_inp):\n",
        "    bagging_predict_result_LH = []\n",
        "    for _ in range(10):\n",
        "      data_index = [data_index for data_index in range(self.train_inp.shape[0])]\n",
        "      random_data_index = np.random.choice(data_index, self.train_inp.shape[0])\n",
        "\n",
        "      xgb_train = xgb.DMatrix(data=self.train_inp, label=self.train_out_LH)\n",
        "      xgb_model = xgb.XGBRegressor(n_estimators=800, max_depth=32, learning_rate=0.03, objective='reg:squarederror',\n",
        "                                 reg_lambda=1.5, reg_alpha=0.5, early_stopping_round=5)\n",
        "      fit = xgb_model.fit(self.train_inp, self.train_out_LH)\n",
        "      predict1_LH = fit.predict(test_inp)\n",
        "      bagging_predict_result_LH.append(predict1_LH)\n",
        "\n",
        "    bagging_predict_LH = []\n",
        "    for lst2_index in range(test_inp.shape[0]):\n",
        "      temp_predict_LH = []\n",
        "      for lst_index in range(len(bagging_predict_result_LH)):\n",
        "        temp_predict_LH.append(bagging_predict_result_LH[lst_index][lst2_index])\n",
        "      bagging_predict_LH.append(np.mean(temp_predict_LH))\n",
        "    test_pred_LH = pd.DataFrame(bagging_predict_LH, columns=self.train_out_LH.columns)\n",
        "\n",
        "    bagging_predict_result_PG = []\n",
        "    for _ in range(10):\n",
        "      data_index = [data_index for data_index in range(self.train_inp.shape[0])]\n",
        "      random_data_index = np.random.choice(data_index, self.train_inp.shape[0])\n",
        "\n",
        "      xgb_train = xgb.DMatrix(data=self.train_inp, label=self.train_out_PG)\n",
        "      xgb_model = xgb.XGBRegressor(n_estimators=800, max_depth=32, learning_rate=0.03, objective='reg:squarederror',\n",
        "                                 reg_lambda=1.5, reg_alpha=0.5, early_stopping_round=5)\n",
        "      fit = xgb_model.fit(self.train_inp, self.train_out_PG)\n",
        "      predict1_PG = fit.predict(test_inp)\n",
        "      bagging_predict_result_PG.append(predict1_PG)\n",
        "\n",
        "    bagging_predict_PG = []\n",
        "    for lst2_index in range(test_inp.shape[0]):\n",
        "      temp_predict_PG = []\n",
        "      for lst_index in range(len(bagging_predict_result_PG)):\n",
        "        temp_predict_PG.append(bagging_predict_result_PG[lst_index][lst2_index])\n",
        "      bagging_predict_PG.append(np.mean(temp_predict_PG))\n",
        "    test_pred_PG = pd.DataFrame(bagging_predict_PG, columns=self.train_out_PG.columns)\n",
        "    return test_pred_LH, test_pred_PG\n",
        "#------------------------------------------------------------------------------------------#\n",
        "  def Ens_Ens_LGBM(self, test_inp):\n",
        "    bagging_predict_result_LH = []\n",
        "    for _ in range(10):\n",
        "      data_index = [data_index for data_index in range(self.train_inp.shape[0])]\n",
        "      random_data_index = np.random.choice(data_index, self.train_inp.shape[0])\n",
        "\n",
        "      lgb_train = lgb.Dataset(data=self.train_inp.iloc[random_data_index,], label=self.train_out_LH.iloc[random_data_index,])\n",
        "      lgb_param = {'max_depth': 30,\n",
        "                  'n_estimators': 500,\n",
        "                  'learning_rate': 0.01,\n",
        "                  'boosting_type': 'gbdt',\n",
        "                  'objective': 'regression'}\n",
        "      lgb_model = lgb.train(params=lgb_param, train_set=lgb_train)\n",
        "      predict1_LH = lgb_model.predict(test_inp)\n",
        "      bagging_predict_result_LH.append(predict1_LH)\n",
        "\n",
        "    bagging_predict_LH = []\n",
        "    for lst2_index in range(test_inp.shape[0]):\n",
        "      temp_predict_LH = []\n",
        "      for lst_index in range(len(bagging_predict_result_LH)):\n",
        "        temp_predict_LH.append(bagging_predict_result_LH[lst_index][lst2_index])\n",
        "      bagging_predict_LH.append(np.mean(temp_predict_LH))\n",
        "    test_pred_LH = pd.DataFrame(bagging_predict_LH, columns=self.train_out_LH.columns)\n",
        "\n",
        "    bagging_predict_result_PG = []\n",
        "    for _ in range(10):\n",
        "      data_index = [data_index for data_index in range(self.train_inp.shape[0])]\n",
        "      random_data_index = np.random.choice(data_index, self.train_inp.shape[0])\n",
        "\n",
        "      lgb_train = lgb.Dataset(data=self.train_inp.iloc[random_data_index,], label=self.train_out_PG.iloc[random_data_index,])\n",
        "      lgb_param = {'max_depth': 30,\n",
        "                  'n_estimators': 500,\n",
        "                  'learning_rate': 0.01,\n",
        "                  'boosting_type': 'gbdt',\n",
        "                  'objective': 'regression'}\n",
        "      lgb_model = lgb.train(params=lgb_param, train_set=lgb_train)\n",
        "      predict1_PG = lgb_model.predict(test_inp)\n",
        "      bagging_predict_result_PG.append(predict1_PG)\n",
        "\n",
        "    bagging_predict_PG = []\n",
        "    for lst2_index in range(test_inp.shape[0]):\n",
        "      temp_predict_PG = []\n",
        "      for lst_index in range(len(bagging_predict_result_PG)):\n",
        "        temp_predict_PG.append(bagging_predict_result_PG[lst_index][lst2_index])\n",
        "      bagging_predict_PG.append(np.mean(temp_predict_PG))\n",
        "    test_pred_PG = pd.DataFrame(bagging_predict_PG, columns=self.train_out_PG.columns)\n",
        "    return test_pred_LH, test_pred_PG\n",
        "#------------------------------------------------------------------------------------------#\n",
        "  def Ens_Ens_Mul(self, test_inp):\n",
        "    bagging_predict_result_LH = []\n",
        "    for _ in range(5):\n",
        "      data_index = [data_index for data_index in range(self.train_inp.shape[0])]\n",
        "      random_data_index = np.random.choice(data_index, self.train_inp.shape[0])\n",
        "\n",
        "      xgb_train = xgb.DMatrix(data=self.train_inp, label=self.train_out_LH)\n",
        "      xgb_model = xgb.XGBRegressor(n_estimators=800, max_depth=32, learning_rate=0.03, objective='reg:squarederror',\n",
        "                                 reg_lambda=1.5, reg_alpha=0.5, early_stopping_round=5)\n",
        "      fit = xgb_model.fit(self.train_inp, self.train_out_LH, eval_set=[(self.val_inp, self.val_out_LH)], verbose=False)\n",
        "      predict1_LH = fit.predict(test_inp)\n",
        "      bagging_predict_result_LH.append(predict1_LH)\n",
        "\n",
        "      lgb_train = lgb.Dataset(data=self.train_inp.iloc[random_data_index,], label=self.train_out_LH.iloc[random_data_index,])\n",
        "      lgb_param = {'max_depth': 30,\n",
        "                  'n_estimators': 500,\n",
        "                  'learning_rate': 0.01,\n",
        "                  'boosting_type': 'gbdt',\n",
        "                  'objective': 'regression'}\n",
        "      lgb_model = lgb.train(params=lgb_param, train_set=lgb_train)\n",
        "      predict1_LH = lgb_model.predict(test_inp)\n",
        "      bagging_predict_result_LH.append(predict1_LH)\n",
        "\n",
        "      tree_model = DecisionTreeRegressor(max_depth=20)\n",
        "      Ada_model = AdaBoostRegressor(base_estimator=tree_model, n_estimators=300)\n",
        "      Ada_model.fit(self.train_inp, self.train_out_LH)\n",
        "      Ada_predict_LH = Ada_model.predict(test_inp)\n",
        "      bagging_predict_result_LH.append(Ada_predict_LH)\n",
        "\n",
        "    bagging_predict_LH = []\n",
        "    for lst2_index in range(test_inp.shape[0]):\n",
        "      temp_predict_LH = []\n",
        "      for lst_index in range(len(bagging_predict_result_LH)):\n",
        "        temp_predict_LH.append(bagging_predict_result_LH[lst_index][lst2_index])\n",
        "      bagging_predict_LH.append(np.mean(temp_predict_LH))\n",
        "    test_pred_LH = pd.DataFrame(bagging_predict_LH, columns=self.train_out_LH.columns)\n",
        "\n",
        "    bagging_predict_result_PG = []\n",
        "    for _ in range(5):\n",
        "      data_index = [data_index for data_index in range(self.train_inp.shape[0])]\n",
        "      random_data_index = np.random.choice(data_index, self.train_inp.shape[0])\n",
        "\n",
        "      xgb_train = xgb.DMatrix(data=self.train_inp, label=self.train_out_PG)\n",
        "      xgb_model = xgb.XGBRegressor(n_estimators=800, max_depth=32, learning_rate=0.03, objective='reg:squarederror',\n",
        "                                 reg_lambda=1.5, reg_alpha=0.5, early_stopping_round=5)\n",
        "      fit = xgb_model.fit(self.train_inp, self.train_out_PG, eval_set=[(self.val_inp, self.val_out_PG)], verbose=False)\n",
        "      predict1_PG = fit.predict(test_inp)\n",
        "      bagging_predict_result_PG.append(predict1_PG)\n",
        "\n",
        "      lgb_train = lgb.Dataset(data=self.train_inp.iloc[random_data_index,], label=self.train_out_PG.iloc[random_data_index,])\n",
        "      lgb_param = {'max_depth': 30,\n",
        "                  'n_estimators': 500,\n",
        "                  'learning_rate': 0.01,\n",
        "                  'boosting_type': 'gbdt',\n",
        "                  'objective': 'regression'}\n",
        "      lgb_model = lgb.train(params=lgb_param, train_set=lgb_train)\n",
        "      predict1_PG = lgb_model.predict(test_inp)\n",
        "      bagging_predict_result_PG.append(predict1_PG)\n",
        "\n",
        "      tree_model = DecisionTreeRegressor(max_depth=20)\n",
        "      Ada_model = AdaBoostRegressor(base_estimator=tree_model, n_estimators=300)\n",
        "      Ada_model.fit(self.train_inp, self.train_out_PG)\n",
        "      Ada_predict_PG = Ada_model.predict(test_inp)\n",
        "      bagging_predict_result_PG.append(Ada_predict_PG)\n",
        "\n",
        "    bagging_predict_PG = []\n",
        "    for lst2_index in range(test_inp.shape[0]):\n",
        "      temp_predict_PG = []\n",
        "      for lst_index in range(len(bagging_predict_result_PG)):\n",
        "        temp_predict_PG.append(bagging_predict_result_PG[lst_index][lst2_index])\n",
        "      bagging_predict_PG.append(np.mean(temp_predict_PG))\n",
        "\n",
        "    test_pred_PG = pd.DataFrame(bagging_predict_PG, columns=self.train_out_PG.columns)\n",
        "    return test_pred_LH, test_pred_PG"
      ],
      "execution_count": 3,
      "outputs": []
    },
    {
      "cell_type": "markdown",
      "metadata": {
        "id": "am1XinWzUJ5Q"
      },
      "source": [
        "## Predict and Error Check"
      ]
    },
    {
      "cell_type": "code",
      "metadata": {
        "id": "ZBtjQiOohuST"
      },
      "source": [
        "ml = ML_for_LH_PG()\n",
        "pred = ml.Ens_Ens_XGBReg(test_inp)"
      ],
      "execution_count": 4,
      "outputs": []
    },
    {
      "cell_type": "markdown",
      "metadata": {
        "id": "SjbD7KgaD_8x"
      },
      "source": [
        "* pred[0] : predicted LH\n",
        "* pred[1] : predicted PG"
      ]
    },
    {
      "cell_type": "code",
      "metadata": {
        "colab": {
          "base_uri": "https://localhost:8080/",
          "height": 80
        },
        "id": "tBadFFDjDUNk",
        "outputId": "816efcbf-2837-4f47-801d-c12fe2f665fa"
      },
      "source": [
        "ml.test_Error(test_out, pred[0], pred[1])"
      ],
      "execution_count": 5,
      "outputs": [
        {
          "output_type": "execute_result",
          "data": {
            "text/html": [
              "<div>\n",
              "<style scoped>\n",
              "    .dataframe tbody tr th:only-of-type {\n",
              "        vertical-align: middle;\n",
              "    }\n",
              "\n",
              "    .dataframe tbody tr th {\n",
              "        vertical-align: top;\n",
              "    }\n",
              "\n",
              "    .dataframe thead th {\n",
              "        text-align: right;\n",
              "    }\n",
              "</style>\n",
              "<table border=\"1\" class=\"dataframe\">\n",
              "  <thead>\n",
              "    <tr style=\"text-align: right;\">\n",
              "      <th></th>\n",
              "      <th>pred_LH RMSE</th>\n",
              "      <th>pred_PG RMSE</th>\n",
              "      <th>pred_LH MAPE</th>\n",
              "      <th>pred_PG MAPE</th>\n",
              "      <th>pred_LH MSE</th>\n",
              "      <th>pred_PG MSE</th>\n",
              "      <th>LH_R2 score</th>\n",
              "      <th>PG_R2 score</th>\n",
              "    </tr>\n",
              "  </thead>\n",
              "  <tbody>\n",
              "    <tr>\n",
              "      <th>0</th>\n",
              "      <td>0.080443</td>\n",
              "      <td>781.845698</td>\n",
              "      <td>6.197787</td>\n",
              "      <td>12.500187</td>\n",
              "      <td>0.006471</td>\n",
              "      <td>611282.695213</td>\n",
              "      <td>0.754735</td>\n",
              "      <td>0.953162</td>\n",
              "    </tr>\n",
              "  </tbody>\n",
              "</table>\n",
              "</div>"
            ],
            "text/plain": [
              "   pred_LH RMSE  pred_PG RMSE  ...  LH_R2 score  PG_R2 score\n",
              "0      0.080443    781.845698  ...     0.754735     0.953162\n",
              "\n",
              "[1 rows x 8 columns]"
            ]
          },
          "metadata": {
            "tags": []
          },
          "execution_count": 5
        }
      ]
    },
    {
      "cell_type": "markdown",
      "metadata": {
        "id": "AKcQF4ZOQ75C"
      },
      "source": [
        "Adaboost나 LightGBM 하이퍼파라미터 손보기"
      ]
    },
    {
      "cell_type": "markdown",
      "metadata": {
        "id": "G21BdVVAUWmA"
      },
      "source": [
        "## Plot Class"
      ]
    },
    {
      "cell_type": "code",
      "metadata": {
        "id": "6AS7hODkUWAj"
      },
      "source": [
        "class Plots(ML_for_LH_PG):\n",
        "  def __init__(self):\n",
        "    super().__init__()\n",
        "\n",
        "  def plot_col_1(self, targets, predictions):\n",
        "    plt.scatter(targets, predictions, c='k', s=1.8)\n",
        "    plt.xlabel('True Values')\n",
        "    plt.ylabel('Predictions')\n",
        "    plt.axis('square')\n",
        "    plt.xlim([0,1])\n",
        "    plt.ylim([0,1])\n",
        "    _ = plt.plot([-100,100], [-100,100])\n",
        "    return pd.concat([targets, predictions], axis=1)\n",
        "\n",
        "  def plot_col_2(self, targets, predictions):\n",
        "    plt.scatter(targets, predictions, c='k', s=1.8)\n",
        "    plt.xlabel('True Values')\n",
        "    plt.ylabel('Predictions')\n",
        "    plt.axis('square')\n",
        "    plt.xlim([0, targets.max()-(targets.max()%10)+1000])\n",
        "    plt.ylim([0, targets.max()-(targets.max()%10)+1000])\n",
        "    _ = plt.plot([-20000,20000], [-20000,20000])\n",
        "    return pd.concat([targets, predictions], axis=1)"
      ],
      "execution_count": 6,
      "outputs": []
    },
    {
      "cell_type": "code",
      "metadata": {
        "colab": {
          "base_uri": "https://localhost:8080/",
          "height": 685
        },
        "id": "dcylt8oSUgFy",
        "outputId": "8a2cbd26-fc63-417a-cac8-c6a282d2390a"
      },
      "source": [
        "Plot = Plots()\n",
        "LH = Plot.plot_col_1(test_out['Liquid holdup'], pred[0])\n",
        "LH"
      ],
      "execution_count": 7,
      "outputs": [
        {
          "output_type": "execute_result",
          "data": {
            "text/html": [
              "<div>\n",
              "<style scoped>\n",
              "    .dataframe tbody tr th:only-of-type {\n",
              "        vertical-align: middle;\n",
              "    }\n",
              "\n",
              "    .dataframe tbody tr th {\n",
              "        vertical-align: top;\n",
              "    }\n",
              "\n",
              "    .dataframe thead th {\n",
              "        text-align: right;\n",
              "    }\n",
              "</style>\n",
              "<table border=\"1\" class=\"dataframe\">\n",
              "  <thead>\n",
              "    <tr style=\"text-align: right;\">\n",
              "      <th></th>\n",
              "      <th>Liquid holdup</th>\n",
              "      <th>Liquid holdup</th>\n",
              "    </tr>\n",
              "  </thead>\n",
              "  <tbody>\n",
              "    <tr>\n",
              "      <th>0</th>\n",
              "      <td>0.55</td>\n",
              "      <td>0.593999</td>\n",
              "    </tr>\n",
              "    <tr>\n",
              "      <th>1</th>\n",
              "      <td>0.59</td>\n",
              "      <td>0.605766</td>\n",
              "    </tr>\n",
              "    <tr>\n",
              "      <th>2</th>\n",
              "      <td>0.23</td>\n",
              "      <td>0.252796</td>\n",
              "    </tr>\n",
              "    <tr>\n",
              "      <th>3</th>\n",
              "      <td>0.53</td>\n",
              "      <td>0.546584</td>\n",
              "    </tr>\n",
              "    <tr>\n",
              "      <th>4</th>\n",
              "      <td>0.38</td>\n",
              "      <td>0.414588</td>\n",
              "    </tr>\n",
              "    <tr>\n",
              "      <th>...</th>\n",
              "      <td>...</td>\n",
              "      <td>...</td>\n",
              "    </tr>\n",
              "    <tr>\n",
              "      <th>345</th>\n",
              "      <td>0.75</td>\n",
              "      <td>0.772183</td>\n",
              "    </tr>\n",
              "    <tr>\n",
              "      <th>346</th>\n",
              "      <td>0.60</td>\n",
              "      <td>0.614241</td>\n",
              "    </tr>\n",
              "    <tr>\n",
              "      <th>347</th>\n",
              "      <td>0.81</td>\n",
              "      <td>0.823093</td>\n",
              "    </tr>\n",
              "    <tr>\n",
              "      <th>348</th>\n",
              "      <td>0.70</td>\n",
              "      <td>0.711541</td>\n",
              "    </tr>\n",
              "    <tr>\n",
              "      <th>349</th>\n",
              "      <td>0.42</td>\n",
              "      <td>0.418500</td>\n",
              "    </tr>\n",
              "  </tbody>\n",
              "</table>\n",
              "<p>350 rows × 2 columns</p>\n",
              "</div>"
            ],
            "text/plain": [
              "     Liquid holdup  Liquid holdup\n",
              "0             0.55       0.593999\n",
              "1             0.59       0.605766\n",
              "2             0.23       0.252796\n",
              "3             0.53       0.546584\n",
              "4             0.38       0.414588\n",
              "..             ...            ...\n",
              "345           0.75       0.772183\n",
              "346           0.60       0.614241\n",
              "347           0.81       0.823093\n",
              "348           0.70       0.711541\n",
              "349           0.42       0.418500\n",
              "\n",
              "[350 rows x 2 columns]"
            ]
          },
          "metadata": {
            "tags": []
          },
          "execution_count": 7
        },
        {
          "output_type": "display_data",
          "data": {
            "image/png": "[encoded data removed]",
            "text/plain": [
              "<Figure size 432x288 with 1 Axes>"
            ]
          },
          "metadata": {
            "tags": [],
            "needs_background": "light"
          }
        }
      ]
    },
    {
      "cell_type": "code",
      "metadata": {
        "colab": {
          "base_uri": "https://localhost:8080/",
          "height": 681
        },
        "id": "rxrj-DXfUgoe",
        "outputId": "6fd5f1ad-7167-40e3-b29b-b87d7cecd9fe"
      },
      "source": [
        "PG = Plot.plot_col_2(test_out['Pressure gradient'], pred[1])\n",
        "PG"
      ],
      "execution_count": 8,
      "outputs": [
        {
          "output_type": "execute_result",
          "data": {
            "text/html": [
              "<div>\n",
              "<style scoped>\n",
              "    .dataframe tbody tr th:only-of-type {\n",
              "        vertical-align: middle;\n",
              "    }\n",
              "\n",
              "    .dataframe tbody tr th {\n",
              "        vertical-align: top;\n",
              "    }\n",
              "\n",
              "    .dataframe thead th {\n",
              "        text-align: right;\n",
              "    }\n",
              "</style>\n",
              "<table border=\"1\" class=\"dataframe\">\n",
              "  <thead>\n",
              "    <tr style=\"text-align: right;\">\n",
              "      <th></th>\n",
              "      <th>Pressure gradient</th>\n",
              "      <th>Pressure gradient</th>\n",
              "    </tr>\n",
              "  </thead>\n",
              "  <tbody>\n",
              "    <tr>\n",
              "      <th>0</th>\n",
              "      <td>369</td>\n",
              "      <td>399.947662</td>\n",
              "    </tr>\n",
              "    <tr>\n",
              "      <th>1</th>\n",
              "      <td>775</td>\n",
              "      <td>769.499939</td>\n",
              "    </tr>\n",
              "    <tr>\n",
              "      <th>2</th>\n",
              "      <td>2634</td>\n",
              "      <td>2867.525879</td>\n",
              "    </tr>\n",
              "    <tr>\n",
              "      <th>3</th>\n",
              "      <td>1002</td>\n",
              "      <td>1001.854309</td>\n",
              "    </tr>\n",
              "    <tr>\n",
              "      <th>4</th>\n",
              "      <td>224</td>\n",
              "      <td>216.938141</td>\n",
              "    </tr>\n",
              "    <tr>\n",
              "      <th>...</th>\n",
              "      <td>...</td>\n",
              "      <td>...</td>\n",
              "    </tr>\n",
              "    <tr>\n",
              "      <th>345</th>\n",
              "      <td>2579</td>\n",
              "      <td>2579.208740</td>\n",
              "    </tr>\n",
              "    <tr>\n",
              "      <th>346</th>\n",
              "      <td>2917</td>\n",
              "      <td>2917.001465</td>\n",
              "    </tr>\n",
              "    <tr>\n",
              "      <th>347</th>\n",
              "      <td>1044</td>\n",
              "      <td>850.679871</td>\n",
              "    </tr>\n",
              "    <tr>\n",
              "      <th>348</th>\n",
              "      <td>2666</td>\n",
              "      <td>2668.969238</td>\n",
              "    </tr>\n",
              "    <tr>\n",
              "      <th>349</th>\n",
              "      <td>578</td>\n",
              "      <td>552.849121</td>\n",
              "    </tr>\n",
              "  </tbody>\n",
              "</table>\n",
              "<p>350 rows × 2 columns</p>\n",
              "</div>"
            ],
            "text/plain": [
              "     Pressure gradient  Pressure gradient\n",
              "0                  369         399.947662\n",
              "1                  775         769.499939\n",
              "2                 2634        2867.525879\n",
              "3                 1002        1001.854309\n",
              "4                  224         216.938141\n",
              "..                 ...                ...\n",
              "345               2579        2579.208740\n",
              "346               2917        2917.001465\n",
              "347               1044         850.679871\n",
              "348               2666        2668.969238\n",
              "349                578         552.849121\n",
              "\n",
              "[350 rows x 2 columns]"
            ]
          },
          "metadata": {
            "tags": []
          },
          "execution_count": 8
        },
        {
          "output_type": "display_data",
          "data": {
            "image/png": "[encoded data removed]",
            "text/plain": [
              "<Figure size 432x288 with 1 Axes>"
            ]
          },
          "metadata": {
            "tags": [],
            "needs_background": "light"
          }
        }
      ]
    }
  ]
}