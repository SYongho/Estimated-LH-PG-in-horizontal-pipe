{
  "nbformat": 4,
  "nbformat_minor": 0,
  "metadata": {
    "colab": {
      "name": "LH-PG_DNN keras tuner Not layer tune",
      "provenance": [],
      "collapsed_sections": [
        "FVHFTVbeh393",
        "_ynI-E1IANS1",
        "oucsAwRktibr",
        "QcBFh1otKn1J"
      ],
      "toc_visible": true,
      "authorship_tag": "ABX9TyOPbxhGCRDfm2mK6PkVLBcJ",
      "include_colab_link": true
    },
    "kernelspec": {
      "name": "python3",
      "display_name": "Python 3"
    },
    "accelerator": "GPU"
  },
  "cells": [
    {
      "cell_type": "markdown",
      "metadata": {
        "id": "view-in-github",
        "colab_type": "text"
      },
      "source": [
        "<a href=\"https://colab.research.google.com/github/SYongho/MY/blob/use-keras-tuner/LH_PG_DNN.ipynb\" target=\"_parent\"><img src=\"https://colab.research.google.com/assets/colab-badge.svg\" alt=\"Open In Colab\"/></a>"
      ]
    },
    {
      "cell_type": "markdown",
      "metadata": {
        "id": "FVHFTVbeh393"
      },
      "source": [
        "# Import"
      ]
    },
    {
      "cell_type": "code",
      "metadata": {
        "id": "j-odbqLX89MP"
      },
      "source": [
        "import tensorflow as tf\n",
        "import pandas as pd\n",
        "import numpy as np\n",
        "import matplotlib.pyplot as plt\n",
        "import time\n",
        "\n",
        "from tensorflow.keras.layers import Dense, Dropout, BatchNormalization, Input\n",
        "from tensorflow.keras.models import Model, load_model, model_from_yaml\n",
        "from sklearn import metrics, preprocessing\n",
        "from sklearn.model_selection import train_test_split\n",
        "from sklearn.metrics import mean_absolute_error\n",
        "from time import strftime"
      ],
      "execution_count": 1,
      "outputs": []
    },
    {
      "cell_type": "code",
      "metadata": {
        "colab": {
          "base_uri": "https://localhost:8080/"
        },
        "id": "mw9tlBi13Lhj",
        "outputId": "af0d960e-5a06-4f3c-d121-fa530773bfed"
      },
      "source": [
        "!pip install git+https://github.com/keras-team/keras-tuner.git"
      ],
      "execution_count": 2,
      "outputs": [
        {
          "output_type": "stream",
          "text": [
            "Collecting git+https://github.com/keras-team/keras-tuner.git\n",
            "  Cloning https://github.com/keras-team/keras-tuner.git to /tmp/pip-req-build-patx1qud\n",
            "  Running command git clone -q https://github.com/keras-team/keras-tuner.git /tmp/pip-req-build-patx1qud\n",
            "Requirement already satisfied: packaging in /usr/local/lib/python3.6/dist-packages (from keras-tuner==1.0.3) (20.4)\n",
            "Requirement already satisfied: future in /usr/local/lib/python3.6/dist-packages (from keras-tuner==1.0.3) (0.16.0)\n",
            "Requirement already satisfied: numpy in /usr/local/lib/python3.6/dist-packages (from keras-tuner==1.0.3) (1.18.5)\n",
            "Requirement already satisfied: tabulate in /usr/local/lib/python3.6/dist-packages (from keras-tuner==1.0.3) (0.8.7)\n",
            "Collecting terminaltables\n",
            "  Downloading https://files.pythonhosted.org/packages/9b/c4/4a21174f32f8a7e1104798c445dacdc1d4df86f2f26722767034e4de4bff/terminaltables-3.1.0.tar.gz\n",
            "Collecting colorama\n",
            "  Downloading https://files.pythonhosted.org/packages/44/98/5b86278fbbf250d239ae0ecb724f8572af1c91f4a11edf4d36a206189440/colorama-0.4.4-py2.py3-none-any.whl\n",
            "Requirement already satisfied: tqdm in /usr/local/lib/python3.6/dist-packages (from keras-tuner==1.0.3) (4.41.1)\n",
            "Requirement already satisfied: requests in /usr/local/lib/python3.6/dist-packages (from keras-tuner==1.0.3) (2.23.0)\n",
            "Requirement already satisfied: scipy in /usr/local/lib/python3.6/dist-packages (from keras-tuner==1.0.3) (1.4.1)\n",
            "Requirement already satisfied: scikit-learn in /usr/local/lib/python3.6/dist-packages (from keras-tuner==1.0.3) (0.22.2.post1)\n",
            "Requirement already satisfied: pyparsing>=2.0.2 in /usr/local/lib/python3.6/dist-packages (from packaging->keras-tuner==1.0.3) (2.4.7)\n",
            "Requirement already satisfied: six in /usr/local/lib/python3.6/dist-packages (from packaging->keras-tuner==1.0.3) (1.15.0)\n",
            "Requirement already satisfied: urllib3!=1.25.0,!=1.25.1,<1.26,>=1.21.1 in /usr/local/lib/python3.6/dist-packages (from requests->keras-tuner==1.0.3) (1.24.3)\n",
            "Requirement already satisfied: chardet<4,>=3.0.2 in /usr/local/lib/python3.6/dist-packages (from requests->keras-tuner==1.0.3) (3.0.4)\n",
            "Requirement already satisfied: certifi>=2017.4.17 in /usr/local/lib/python3.6/dist-packages (from requests->keras-tuner==1.0.3) (2020.11.8)\n",
            "Requirement already satisfied: idna<3,>=2.5 in /usr/local/lib/python3.6/dist-packages (from requests->keras-tuner==1.0.3) (2.10)\n",
            "Requirement already satisfied: joblib>=0.11 in /usr/local/lib/python3.6/dist-packages (from scikit-learn->keras-tuner==1.0.3) (0.17.0)\n",
            "Building wheels for collected packages: keras-tuner, terminaltables\n",
            "  Building wheel for keras-tuner (setup.py) ... \u001b[?25l\u001b[?25hdone\n",
            "  Created wheel for keras-tuner: filename=keras_tuner-1.0.3-cp36-none-any.whl size=92439 sha256=1bc11851fb18a9d86f300c0db542b91536b370ccba030c9e1aae329b555b957a\n",
            "  Stored in directory: /tmp/pip-ephem-wheel-cache-bfzeis5h/wheels/33/f9/be/250538026c0381bfee3fe34b533f483c15dbfde8fbb61c8bbd\n",
            "  Building wheel for terminaltables (setup.py) ... \u001b[?25l\u001b[?25hdone\n",
            "  Created wheel for terminaltables: filename=terminaltables-3.1.0-cp36-none-any.whl size=15356 sha256=e6c012f13107a9ad99f5c9ce95404f1bed179cd41dfc8e76826f9b375902a81b\n",
            "  Stored in directory: /root/.cache/pip/wheels/30/6b/50/6c75775b681fb36cdfac7f19799888ef9d8813aff9e379663e\n",
            "Successfully built keras-tuner terminaltables\n",
            "Installing collected packages: terminaltables, colorama, keras-tuner\n",
            "Successfully installed colorama-0.4.4 keras-tuner-1.0.3 terminaltables-3.1.0\n"
          ],
          "name": "stdout"
        }
      ]
    },
    {
      "cell_type": "code",
      "metadata": {
        "id": "qi92U-pb4i1t"
      },
      "source": [
        "from kerastuner.tuners import RandomSearch, BayesianOptimization\n",
        "from kerastuner.engine.hypermodel import HyperModel\n",
        "from kerastuner.engine.hyperparameters import HyperParameters"
      ],
      "execution_count": 3,
      "outputs": []
    },
    {
      "cell_type": "markdown",
      "metadata": {
        "id": "_ynI-E1IANS1"
      },
      "source": [
        "# Data split"
      ]
    },
    {
      "cell_type": "code",
      "metadata": {
        "id": "L8iYs44a_s3e"
      },
      "source": [
        "csv_inp = pd.read_csv('ins.csv')\n",
        "csv_out = pd.read_csv('outs.csv')\n",
        "\n",
        "inp_columns = csv_inp.columns\n",
        "out_columns = csv_out.columns\n",
        "\n",
        "train_inp = csv_inp[:310].values\n",
        "train_out = csv_out[:310].values\n",
        "test_inp = csv_inp[310:].values\n",
        "test_out = csv_out[310:].values\n",
        "\n",
        "train_inp, val_inp, train_out, val_out = train_test_split(train_inp, train_out, test_size=0.1, random_state=38)\n",
        "\n",
        "train_inp_i = pd.DataFrame(train_inp, columns=inp_columns)\n",
        "train_out_i = pd.DataFrame(train_out, columns=out_columns)\n",
        "val_inp_i = pd.DataFrame(val_inp, columns=inp_columns)\n",
        "val_out_i = pd.DataFrame(val_out, columns=out_columns)\n",
        "test_inp_i = pd.DataFrame(test_inp, columns=inp_columns)\n",
        "test_out_i = pd.DataFrame(test_out, columns=out_columns)"
      ],
      "execution_count": 4,
      "outputs": []
    },
    {
      "cell_type": "markdown",
      "metadata": {
        "id": "2JaXRKTtCJ-o"
      },
      "source": [
        "### Train Normalization\n"
      ]
    },
    {
      "cell_type": "code",
      "metadata": {
        "id": "9T91HUN8BLbn"
      },
      "source": [
        "min_max_scaler = preprocessing.MinMaxScaler()\n",
        "\n",
        "train_inp = pd.DataFrame(min_max_scaler.fit_transform(train_inp_i), columns=inp_columns)\n",
        "train_out = pd.DataFrame(min_max_scaler.fit_transform(train_out_i), columns=out_columns)"
      ],
      "execution_count": 5,
      "outputs": []
    },
    {
      "cell_type": "markdown",
      "metadata": {
        "id": "AUyWslioDO-A"
      },
      "source": [
        "### Validation Normalization"
      ]
    },
    {
      "cell_type": "code",
      "metadata": {
        "id": "69tCJOK2C1lC"
      },
      "source": [
        "val_inp = pd.DataFrame(min_max_scaler.fit_transform(val_inp_i), columns=inp_columns)\n",
        "val_out = pd.DataFrame(min_max_scaler.fit_transform(val_out_i), columns=out_columns)"
      ],
      "execution_count": 6,
      "outputs": []
    },
    {
      "cell_type": "markdown",
      "metadata": {
        "id": "vK_rTiZNDfGa"
      },
      "source": [
        "### Test Normalization"
      ]
    },
    {
      "cell_type": "code",
      "metadata": {
        "id": "VJ4rB_NODeQG"
      },
      "source": [
        "test_inp = pd.DataFrame(min_max_scaler.fit_transform(test_inp_i), columns=inp_columns)\n",
        "test_out = pd.DataFrame(min_max_scaler.fit_transform(test_out_i), columns=out_columns)"
      ],
      "execution_count": 7,
      "outputs": []
    },
    {
      "cell_type": "markdown",
      "metadata": {
        "id": "daKLV7k2Dtbb"
      },
      "source": [
        "# Model"
      ]
    },
    {
      "cell_type": "code",
      "metadata": {
        "id": "T0NOMyVVDpt3"
      },
      "source": [
        "def build_model(hp):\n",
        "  optimizer = tf.keras.optimizers.SGD(lr=0.001, momentum=0.9, nesterov=True)\n",
        "  kernel_regularizer = tf.keras.regularizers.l1_l2(l1=0.01, l2=0.01)\n",
        "  kernel_initializer = tf.keras.initializers.he_normal(seed=None)\n",
        "  bias_regularizer = tf.keras.regularizers.l1_l2(l1=0.01, l2=0.01)\n",
        "\n",
        "  model_inp = Input(shape=(5,))\n",
        "  model = Dense(units=hp.Int('units_1', 10, 100, 5), activation='relu', \n",
        "                kernel_regularizer=kernel_regularizer, kernel_initializer=kernel_initializer, bias_regularizer=bias_regularizer, bias_initializer='zeros', name='Dense_1')(model_inp)\n",
        "  model = Dropout(hp.Float('dropout_1', 0, 0.5, 0.01))(model)\n",
        "  model = BatchNormalization()(model)\n",
        "  model = Dense(units=hp.Int('units_2', 10, 100, 5), activation='relu', \n",
        "                kernel_regularizer=kernel_regularizer, kernel_initializer=kernel_initializer, bias_regularizer=bias_regularizer, bias_initializer='zeros', name='Dense_2')(model)\n",
        "  model = Dropout(hp.Float('dropout_2', 0, 0.5, 0.01))(model)\n",
        "  model = BatchNormalization()(model)\n",
        "  model = Dense(2, activation='linear', name='output')(model)\n",
        "\n",
        "  model = Model(inputs=model_inp, outputs=model)\n",
        "  model.compile(loss='mse', optimizer=optimizer, metrics=['mse'])\n",
        "\n",
        "  return model"
      ],
      "execution_count": 8,
      "outputs": []
    },
    {
      "cell_type": "code",
      "metadata": {
        "id": "103hbxuILetO"
      },
      "source": [
        "tuner = BayesianOptimization(\n",
        "    build_model, objective='mse', max_trials=20, seed=38, executions_per_trial=3)"
      ],
      "execution_count": 9,
      "outputs": []
    },
    {
      "cell_type": "code",
      "metadata": {
        "colab": {
          "base_uri": "https://localhost:8080/"
        },
        "id": "42Wwdwv1UuCS",
        "outputId": "63e0afad-4d4f-4c27-8d92-de90c9589cfe"
      },
      "source": [
        "tuner.search_space_summary()"
      ],
      "execution_count": 10,
      "outputs": [
        {
          "output_type": "stream",
          "text": [
            "Search space summary\n",
            "Default search space size: 4\n",
            "units_1 (Int)\n",
            "{'default': None, 'conditions': [], 'min_value': 10, 'max_value': 100, 'step': 5, 'sampling': None}\n",
            "dropout_1 (Float)\n",
            "{'default': 0.0, 'conditions': [], 'min_value': 0.0, 'max_value': 0.5, 'step': 0.01, 'sampling': None}\n",
            "units_2 (Int)\n",
            "{'default': None, 'conditions': [], 'min_value': 10, 'max_value': 100, 'step': 5, 'sampling': None}\n",
            "dropout_2 (Float)\n",
            "{'default': 0.0, 'conditions': [], 'min_value': 0.0, 'max_value': 0.5, 'step': 0.01, 'sampling': None}\n"
          ],
          "name": "stdout"
        }
      ]
    },
    {
      "cell_type": "code",
      "metadata": {
        "colab": {
          "base_uri": "https://localhost:8080/"
        },
        "id": "94Os6mmNM3OV",
        "outputId": "51b1dd1f-4f87-420f-c7ce-d19e3e8364e8"
      },
      "source": [
        "callbacks = [tf.keras.callbacks.EarlyStopping(monitor='val_loss', mode='min', patience=20),\n",
        "             tf.keras.callbacks.ReduceLROnPlateau(monitor='val_loss', factor=0.1, patience=10, mode='min')]\n",
        "\n",
        "tuner.search(train_inp, train_out, epochs=3000, validation_data=(val_inp, val_out), callbacks=callbacks, verbose=2)\n",
        "tuner.results_summary()"
      ],
      "execution_count": 11,
      "outputs": [
        {
          "output_type": "stream",
          "text": [
            "Trial 20 Complete [00h 02m 09s]\n",
            "mse: 0.0029447325505316257\n",
            "\n",
            "Best mse So Far: 0.0029447325505316257\n",
            "Total elapsed time: 00h 41m 54s\n",
            "INFO:tensorflow:Oracle triggered exit\n",
            "Results summary\n",
            "Results in ./untitled_project\n",
            "Showing 10 best trials\n",
            "Objective(name='mse', direction='min')\n",
            "Trial summary\n",
            "Hyperparameters:\n",
            "units_1: 70\n",
            "dropout_1: 0.01\n",
            "units_2: 15\n",
            "dropout_2: 0.02\n",
            "Score: 0.0029447325505316257\n",
            "Trial summary\n",
            "Hyperparameters:\n",
            "units_1: 80\n",
            "dropout_1: 0.04\n",
            "units_2: 10\n",
            "dropout_2: 0.01\n",
            "Score: 0.0031595524245252213\n",
            "Trial summary\n",
            "Hyperparameters:\n",
            "units_1: 20\n",
            "dropout_1: 0.01\n",
            "units_2: 95\n",
            "dropout_2: 0.08\n",
            "Score: 0.0037648101958135762\n",
            "Trial summary\n",
            "Hyperparameters:\n",
            "units_1: 90\n",
            "dropout_1: 0.11\n",
            "units_2: 95\n",
            "dropout_2: 0.03\n",
            "Score: 0.003995265578851104\n",
            "Trial summary\n",
            "Hyperparameters:\n",
            "units_1: 70\n",
            "dropout_1: 0.02\n",
            "units_2: 45\n",
            "dropout_2: 0.14\n",
            "Score: 0.004092000192031264\n",
            "Trial summary\n",
            "Hyperparameters:\n",
            "units_1: 15\n",
            "dropout_1: 0.07\n",
            "units_2: 15\n",
            "dropout_2: 0.04\n",
            "Score: 0.004385614612450202\n",
            "Trial summary\n",
            "Hyperparameters:\n",
            "units_1: 100\n",
            "dropout_1: 0.01\n",
            "units_2: 20\n",
            "dropout_2: 0.24\n",
            "Score: 0.004734186766048272\n",
            "Trial summary\n",
            "Hyperparameters:\n",
            "units_1: 70\n",
            "dropout_1: 0.1\n",
            "units_2: 50\n",
            "dropout_2: 0.19\n",
            "Score: 0.005161403988798459\n",
            "Trial summary\n",
            "Hyperparameters:\n",
            "units_1: 100\n",
            "dropout_1: 0.04\n",
            "units_2: 100\n",
            "dropout_2: 0.36\n",
            "Score: 0.005403258216877778\n",
            "Trial summary\n",
            "Hyperparameters:\n",
            "units_1: 85\n",
            "dropout_1: 0.41000000000000003\n",
            "units_2: 20\n",
            "dropout_2: 0.0\n",
            "Score: 0.005557131953537464\n"
          ],
          "name": "stdout"
        }
      ]
    },
    {
      "cell_type": "code",
      "metadata": {
        "colab": {
          "base_uri": "https://localhost:8080/"
        },
        "id": "N-q-45suOmBC",
        "outputId": "da619abe-2637-48af-b440-23849130b1be"
      },
      "source": [
        "best_model = tuner.get_best_models(num_models=1)[0]\n",
        "best_model.evaluate(test_inp, test_out)"
      ],
      "execution_count": 12,
      "outputs": [
        {
          "output_type": "stream",
          "text": [
            "2/2 [==============================] - 0s 3ms/step - loss: 0.1442 - mse: 0.0101\n"
          ],
          "name": "stdout"
        },
        {
          "output_type": "execute_result",
          "data": {
            "text/plain": [
              "[0.14423510432243347, 0.01012313924729824]"
            ]
          },
          "metadata": {
            "tags": []
          },
          "execution_count": 12
        }
      ]
    },
    {
      "cell_type": "code",
      "metadata": {
        "id": "FLqWFKHvOCpF"
      },
      "source": [
        "def RMSE(targets, predictions):\n",
        "  return np.sqrt(np.mean(np.square(targets-predictions)))\n",
        "\n",
        "def MAPE(targets, predictions):\n",
        "  return np.mean(np.abs((targets-predictions) / targets)) * 100\n",
        "\n",
        "def MSE(targets, predictions):\n",
        "  return np.mean(np.square(targets-predictions))\n",
        "\n",
        "def rescale(x_i, x):\n",
        "  _max = x_i.max()\n",
        "  _min = x_i.min()\n",
        "  return x * (_max - _min) + _min"
      ],
      "execution_count": 14,
      "outputs": []
    },
    {
      "cell_type": "markdown",
      "metadata": {
        "id": "cLSmD7GlLyhj"
      },
      "source": [
        "### Prediction"
      ]
    },
    {
      "cell_type": "code",
      "metadata": {
        "colab": {
          "base_uri": "https://localhost:8080/"
        },
        "id": "QSZ2X2dFk1c4",
        "outputId": "4e463d6c-1c14-47de-88cc-8bf46449b7ad"
      },
      "source": [
        "evaluates = best_model.evaluate(test_inp, test_out, batch_size=128, verbose=2)\n",
        "test_predictions = pd.DataFrame(best_model.predict(test_inp, batch_size=128), columns=out_columns)\n",
        "\n",
        "test_out_rescaled = rescale(test_out_i, test_out)\n",
        "test_pred_rescaled = rescale(test_out_i, test_predictions)\n",
        "\n",
        "test_output = pd.DataFrame(test_out_rescaled, columns=out_columns)\n",
        "test_predict = pd.DataFrame(test_pred_rescaled, columns=out_columns)\n",
        "\n",
        "test_out_LH = test_output[out_columns[0]]\n",
        "test_pred_LH = test_predict[out_columns[0]]\n",
        "test_out_PG = test_output[out_columns[1]]\n",
        "test_pred_PG = test_predict[out_columns[1]]"
      ],
      "execution_count": 15,
      "outputs": [
        {
          "output_type": "stream",
          "text": [
            "1/1 - 0s - loss: 0.1442 - mse: 0.0101\n"
          ],
          "name": "stdout"
        }
      ]
    },
    {
      "cell_type": "markdown",
      "metadata": {
        "id": "E_HBkjKOPZ8m"
      },
      "source": [
        "## Error"
      ]
    },
    {
      "cell_type": "code",
      "metadata": {
        "id": "j9ODMGUtPLWV"
      },
      "source": [
        "def Error_Df():\n",
        "  df = [evaluates[0],\n",
        "        RMSE(test_out_LH, test_pred_LH), RMSE(test_out_PG, test_pred_PG),\n",
        "        MAPE(test_out_LH, test_pred_LH), MAPE(test_out_PG, test_pred_PG),\n",
        "        MSE(test_out_LH, test_pred_LH), MSE(test_out_PG, test_pred_PG),\n",
        "        metrics.r2_score(test_out_LH, test_pred_LH), metrics.r2_score(test_out_PG, test_pred_PG)]\n",
        "  error_col = ['Test loss', 'pred_LH RMSE', 'pred_PG RMSE', 'pred_LH MAPE', 'pred_PG MAPE', 'pred_LH MSE', 'pred_PG MSE', 'LH_R2 score', 'PG_R2 score']\n",
        "\n",
        "  return pd.DataFrame([df], columns=error_col)"
      ],
      "execution_count": 16,
      "outputs": []
    },
    {
      "cell_type": "code",
      "metadata": {
        "colab": {
          "base_uri": "https://localhost:8080/",
          "height": 80
        },
        "id": "b1VWTBpbesVi",
        "outputId": "9eaaffdf-96e7-4d53-c5d4-9c5a05d5f263"
      },
      "source": [
        "Error_Df()"
      ],
      "execution_count": 17,
      "outputs": [
        {
          "output_type": "execute_result",
          "data": {
            "text/html": [
              "<div>\n",
              "<style scoped>\n",
              "    .dataframe tbody tr th:only-of-type {\n",
              "        vertical-align: middle;\n",
              "    }\n",
              "\n",
              "    .dataframe tbody tr th {\n",
              "        vertical-align: top;\n",
              "    }\n",
              "\n",
              "    .dataframe thead th {\n",
              "        text-align: right;\n",
              "    }\n",
              "</style>\n",
              "<table border=\"1\" class=\"dataframe\">\n",
              "  <thead>\n",
              "    <tr style=\"text-align: right;\">\n",
              "      <th></th>\n",
              "      <th>Test loss</th>\n",
              "      <th>pred_LH RMSE</th>\n",
              "      <th>pred_PG RMSE</th>\n",
              "      <th>pred_LH MAPE</th>\n",
              "      <th>pred_PG MAPE</th>\n",
              "      <th>pred_LH MSE</th>\n",
              "      <th>pred_PG MSE</th>\n",
              "      <th>LH_R2 score</th>\n",
              "      <th>PG_R2 score</th>\n",
              "    </tr>\n",
              "  </thead>\n",
              "  <tbody>\n",
              "    <tr>\n",
              "      <th>0</th>\n",
              "      <td>0.144235</td>\n",
              "      <td>0.092273</td>\n",
              "      <td>461.347691</td>\n",
              "      <td>14.484149</td>\n",
              "      <td>27.26803</td>\n",
              "      <td>0.008514</td>\n",
              "      <td>212841.692286</td>\n",
              "      <td>0.614649</td>\n",
              "      <td>0.927945</td>\n",
              "    </tr>\n",
              "  </tbody>\n",
              "</table>\n",
              "</div>"
            ],
            "text/plain": [
              "   Test loss  pred_LH RMSE  ...  LH_R2 score  PG_R2 score\n",
              "0   0.144235      0.092273  ...     0.614649     0.927945\n",
              "\n",
              "[1 rows x 9 columns]"
            ]
          },
          "metadata": {
            "tags": []
          },
          "execution_count": 17
        }
      ]
    },
    {
      "cell_type": "markdown",
      "metadata": {
        "id": "FvWE5wE7fOGO"
      },
      "source": [
        "## Plot"
      ]
    },
    {
      "cell_type": "code",
      "metadata": {
        "id": "obgQm1m7lfnJ"
      },
      "source": [
        "def plot_compare_LH(true, prediction):\n",
        "  plt.scatter(true, prediction, c='k', s=1.8)\n",
        "  plt.xlabel('True Values')\n",
        "  plt.ylabel('Predictions')\n",
        "  plt.axis('square')\n",
        "  plt.xlim([0,1])\n",
        "  plt.ylim([0,1])\n",
        "  _ = plt.plot([-100,100], [-100,100])\n",
        "\n",
        "def plot_compare_PG(true, prediction):\n",
        "  plt.scatter(true, prediction, c='k', s=1.8)\n",
        "  plt.xlabel('True Values')\n",
        "  plt.ylabel('Predictions')\n",
        "  plt.axis('square')\n",
        "  plt.xlim([0,max(true)-(max(true)%10)+1000])\n",
        "  plt.ylim([0,max(true)-(max(true)%10)+1000])\n",
        "  _ = plt.plot([-20000,20000], [-20000,20000])"
      ],
      "execution_count": 18,
      "outputs": []
    },
    {
      "cell_type": "code",
      "metadata": {
        "colab": {
          "base_uri": "https://localhost:8080/",
          "height": 1000
        },
        "id": "1p85Kcc7euUm",
        "outputId": "e67c47b2-e9fd-4609-8540-801a1b63f147"
      },
      "source": [
        "plot_compare_LH(test_out_LH, test_pred_LH)\n",
        "pd.DataFrame({'test_out_LH':test_out_LH,\n",
        "              'test_pred_LH':test_pred_LH})"
      ],
      "execution_count": 19,
      "outputs": [
        {
          "output_type": "execute_result",
          "data": {
            "text/html": [
              "<div>\n",
              "<style scoped>\n",
              "    .dataframe tbody tr th:only-of-type {\n",
              "        vertical-align: middle;\n",
              "    }\n",
              "\n",
              "    .dataframe tbody tr th {\n",
              "        vertical-align: top;\n",
              "    }\n",
              "\n",
              "    .dataframe thead th {\n",
              "        text-align: right;\n",
              "    }\n",
              "</style>\n",
              "<table border=\"1\" class=\"dataframe\">\n",
              "  <thead>\n",
              "    <tr style=\"text-align: right;\">\n",
              "      <th></th>\n",
              "      <th>test_out_LH</th>\n",
              "      <th>test_pred_LH</th>\n",
              "    </tr>\n",
              "  </thead>\n",
              "  <tbody>\n",
              "    <tr>\n",
              "      <th>0</th>\n",
              "      <td>0.33</td>\n",
              "      <td>0.347941</td>\n",
              "    </tr>\n",
              "    <tr>\n",
              "      <th>1</th>\n",
              "      <td>0.58</td>\n",
              "      <td>0.620653</td>\n",
              "    </tr>\n",
              "    <tr>\n",
              "      <th>2</th>\n",
              "      <td>0.63</td>\n",
              "      <td>0.544087</td>\n",
              "    </tr>\n",
              "    <tr>\n",
              "      <th>3</th>\n",
              "      <td>0.65</td>\n",
              "      <td>0.562165</td>\n",
              "    </tr>\n",
              "    <tr>\n",
              "      <th>4</th>\n",
              "      <td>0.62</td>\n",
              "      <td>0.560684</td>\n",
              "    </tr>\n",
              "    <tr>\n",
              "      <th>5</th>\n",
              "      <td>0.44</td>\n",
              "      <td>0.420441</td>\n",
              "    </tr>\n",
              "    <tr>\n",
              "      <th>6</th>\n",
              "      <td>0.71</td>\n",
              "      <td>0.550021</td>\n",
              "    </tr>\n",
              "    <tr>\n",
              "      <th>7</th>\n",
              "      <td>0.76</td>\n",
              "      <td>0.632362</td>\n",
              "    </tr>\n",
              "    <tr>\n",
              "      <th>8</th>\n",
              "      <td>0.59</td>\n",
              "      <td>0.484869</td>\n",
              "    </tr>\n",
              "    <tr>\n",
              "      <th>9</th>\n",
              "      <td>0.77</td>\n",
              "      <td>0.651025</td>\n",
              "    </tr>\n",
              "    <tr>\n",
              "      <th>10</th>\n",
              "      <td>0.64</td>\n",
              "      <td>0.543922</td>\n",
              "    </tr>\n",
              "    <tr>\n",
              "      <th>11</th>\n",
              "      <td>0.70</td>\n",
              "      <td>0.572547</td>\n",
              "    </tr>\n",
              "    <tr>\n",
              "      <th>12</th>\n",
              "      <td>0.57</td>\n",
              "      <td>0.490136</td>\n",
              "    </tr>\n",
              "    <tr>\n",
              "      <th>13</th>\n",
              "      <td>0.53</td>\n",
              "      <td>0.497755</td>\n",
              "    </tr>\n",
              "    <tr>\n",
              "      <th>14</th>\n",
              "      <td>0.52</td>\n",
              "      <td>0.446496</td>\n",
              "    </tr>\n",
              "    <tr>\n",
              "      <th>15</th>\n",
              "      <td>0.73</td>\n",
              "      <td>0.579316</td>\n",
              "    </tr>\n",
              "    <tr>\n",
              "      <th>16</th>\n",
              "      <td>0.61</td>\n",
              "      <td>0.535595</td>\n",
              "    </tr>\n",
              "    <tr>\n",
              "      <th>17</th>\n",
              "      <td>0.85</td>\n",
              "      <td>0.662653</td>\n",
              "    </tr>\n",
              "    <tr>\n",
              "      <th>18</th>\n",
              "      <td>0.71</td>\n",
              "      <td>0.566064</td>\n",
              "    </tr>\n",
              "    <tr>\n",
              "      <th>19</th>\n",
              "      <td>0.46</td>\n",
              "      <td>0.410448</td>\n",
              "    </tr>\n",
              "    <tr>\n",
              "      <th>20</th>\n",
              "      <td>0.58</td>\n",
              "      <td>0.538680</td>\n",
              "    </tr>\n",
              "    <tr>\n",
              "      <th>21</th>\n",
              "      <td>0.81</td>\n",
              "      <td>0.673766</td>\n",
              "    </tr>\n",
              "    <tr>\n",
              "      <th>22</th>\n",
              "      <td>0.67</td>\n",
              "      <td>0.569286</td>\n",
              "    </tr>\n",
              "    <tr>\n",
              "      <th>23</th>\n",
              "      <td>0.46</td>\n",
              "      <td>0.411406</td>\n",
              "    </tr>\n",
              "    <tr>\n",
              "      <th>24</th>\n",
              "      <td>0.58</td>\n",
              "      <td>0.497664</td>\n",
              "    </tr>\n",
              "    <tr>\n",
              "      <th>25</th>\n",
              "      <td>0.48</td>\n",
              "      <td>0.449918</td>\n",
              "    </tr>\n",
              "    <tr>\n",
              "      <th>26</th>\n",
              "      <td>0.58</td>\n",
              "      <td>0.554448</td>\n",
              "    </tr>\n",
              "    <tr>\n",
              "      <th>27</th>\n",
              "      <td>0.12</td>\n",
              "      <td>0.228687</td>\n",
              "    </tr>\n",
              "    <tr>\n",
              "      <th>28</th>\n",
              "      <td>0.66</td>\n",
              "      <td>0.589111</td>\n",
              "    </tr>\n",
              "    <tr>\n",
              "      <th>29</th>\n",
              "      <td>0.64</td>\n",
              "      <td>0.606818</td>\n",
              "    </tr>\n",
              "    <tr>\n",
              "      <th>30</th>\n",
              "      <td>0.62</td>\n",
              "      <td>0.501093</td>\n",
              "    </tr>\n",
              "    <tr>\n",
              "      <th>31</th>\n",
              "      <td>0.59</td>\n",
              "      <td>0.511933</td>\n",
              "    </tr>\n",
              "    <tr>\n",
              "      <th>32</th>\n",
              "      <td>0.58</td>\n",
              "      <td>0.488687</td>\n",
              "    </tr>\n",
              "    <tr>\n",
              "      <th>33</th>\n",
              "      <td>0.52</td>\n",
              "      <td>0.487775</td>\n",
              "    </tr>\n",
              "    <tr>\n",
              "      <th>34</th>\n",
              "      <td>0.22</td>\n",
              "      <td>0.249504</td>\n",
              "    </tr>\n",
              "    <tr>\n",
              "      <th>35</th>\n",
              "      <td>0.75</td>\n",
              "      <td>0.664435</td>\n",
              "    </tr>\n",
              "    <tr>\n",
              "      <th>36</th>\n",
              "      <td>0.60</td>\n",
              "      <td>0.573961</td>\n",
              "    </tr>\n",
              "    <tr>\n",
              "      <th>37</th>\n",
              "      <td>0.81</td>\n",
              "      <td>0.648292</td>\n",
              "    </tr>\n",
              "    <tr>\n",
              "      <th>38</th>\n",
              "      <td>0.70</td>\n",
              "      <td>0.645121</td>\n",
              "    </tr>\n",
              "    <tr>\n",
              "      <th>39</th>\n",
              "      <td>0.42</td>\n",
              "      <td>0.388223</td>\n",
              "    </tr>\n",
              "  </tbody>\n",
              "</table>\n",
              "</div>"
            ],
            "text/plain": [
              "    test_out_LH  test_pred_LH\n",
              "0          0.33      0.347941\n",
              "1          0.58      0.620653\n",
              "2          0.63      0.544087\n",
              "3          0.65      0.562165\n",
              "4          0.62      0.560684\n",
              "5          0.44      0.420441\n",
              "6          0.71      0.550021\n",
              "7          0.76      0.632362\n",
              "8          0.59      0.484869\n",
              "9          0.77      0.651025\n",
              "10         0.64      0.543922\n",
              "11         0.70      0.572547\n",
              "12         0.57      0.490136\n",
              "13         0.53      0.497755\n",
              "14         0.52      0.446496\n",
              "15         0.73      0.579316\n",
              "16         0.61      0.535595\n",
              "17         0.85      0.662653\n",
              "18         0.71      0.566064\n",
              "19         0.46      0.410448\n",
              "20         0.58      0.538680\n",
              "21         0.81      0.673766\n",
              "22         0.67      0.569286\n",
              "23         0.46      0.411406\n",
              "24         0.58      0.497664\n",
              "25         0.48      0.449918\n",
              "26         0.58      0.554448\n",
              "27         0.12      0.228687\n",
              "28         0.66      0.589111\n",
              "29         0.64      0.606818\n",
              "30         0.62      0.501093\n",
              "31         0.59      0.511933\n",
              "32         0.58      0.488687\n",
              "33         0.52      0.487775\n",
              "34         0.22      0.249504\n",
              "35         0.75      0.664435\n",
              "36         0.60      0.573961\n",
              "37         0.81      0.648292\n",
              "38         0.70      0.645121\n",
              "39         0.42      0.388223"
            ]
          },
          "metadata": {
            "tags": []
          },
          "execution_count": 19
        },
        {
          "output_type": "display_data",
          "data": {
            "image/png": "[encoded data removed]",
            "text/plain": [
              "<Figure size 432x288 with 1 Axes>"
            ]
          },
          "metadata": {
            "tags": [],
            "needs_background": "light"
          }
        }
      ]
    },
    {
      "cell_type": "code",
      "metadata": {
        "id": "1md9QFdwkF3R",
        "colab": {
          "base_uri": "https://localhost:8080/",
          "height": 1000
        },
        "outputId": "82015ba7-a1f6-4e5e-cb4b-1c8958997610"
      },
      "source": [
        "plot_compare_PG(test_out_PG, test_pred_PG)\n",
        "pd.DataFrame({'test_out_PG':test_out_PG,\n",
        "              'test_pred_PG':test_pred_PG})"
      ],
      "execution_count": 20,
      "outputs": [
        {
          "output_type": "execute_result",
          "data": {
            "text/html": [
              "<div>\n",
              "<style scoped>\n",
              "    .dataframe tbody tr th:only-of-type {\n",
              "        vertical-align: middle;\n",
              "    }\n",
              "\n",
              "    .dataframe tbody tr th {\n",
              "        vertical-align: top;\n",
              "    }\n",
              "\n",
              "    .dataframe thead th {\n",
              "        text-align: right;\n",
              "    }\n",
              "</style>\n",
              "<table border=\"1\" class=\"dataframe\">\n",
              "  <thead>\n",
              "    <tr style=\"text-align: right;\">\n",
              "      <th></th>\n",
              "      <th>test_out_PG</th>\n",
              "      <th>test_pred_PG</th>\n",
              "    </tr>\n",
              "  </thead>\n",
              "  <tbody>\n",
              "    <tr>\n",
              "      <th>0</th>\n",
              "      <td>1460.0</td>\n",
              "      <td>982.104675</td>\n",
              "    </tr>\n",
              "    <tr>\n",
              "      <th>1</th>\n",
              "      <td>1002.0</td>\n",
              "      <td>639.790207</td>\n",
              "    </tr>\n",
              "    <tr>\n",
              "      <th>2</th>\n",
              "      <td>2214.0</td>\n",
              "      <td>1377.309254</td>\n",
              "    </tr>\n",
              "    <tr>\n",
              "      <th>3</th>\n",
              "      <td>779.0</td>\n",
              "      <td>1093.477080</td>\n",
              "    </tr>\n",
              "    <tr>\n",
              "      <th>4</th>\n",
              "      <td>490.0</td>\n",
              "      <td>306.211337</td>\n",
              "    </tr>\n",
              "    <tr>\n",
              "      <th>5</th>\n",
              "      <td>584.0</td>\n",
              "      <td>485.213137</td>\n",
              "    </tr>\n",
              "    <tr>\n",
              "      <th>6</th>\n",
              "      <td>266.0</td>\n",
              "      <td>419.672985</td>\n",
              "    </tr>\n",
              "    <tr>\n",
              "      <th>7</th>\n",
              "      <td>2900.0</td>\n",
              "      <td>3189.635067</td>\n",
              "    </tr>\n",
              "    <tr>\n",
              "      <th>8</th>\n",
              "      <td>648.0</td>\n",
              "      <td>580.876155</td>\n",
              "    </tr>\n",
              "    <tr>\n",
              "      <th>9</th>\n",
              "      <td>1480.0</td>\n",
              "      <td>1407.819898</td>\n",
              "    </tr>\n",
              "    <tr>\n",
              "      <th>10</th>\n",
              "      <td>51.0</td>\n",
              "      <td>108.830635</td>\n",
              "    </tr>\n",
              "    <tr>\n",
              "      <th>11</th>\n",
              "      <td>261.0</td>\n",
              "      <td>458.978673</td>\n",
              "    </tr>\n",
              "    <tr>\n",
              "      <th>12</th>\n",
              "      <td>319.0</td>\n",
              "      <td>291.136672</td>\n",
              "    </tr>\n",
              "    <tr>\n",
              "      <th>13</th>\n",
              "      <td>7109.0</td>\n",
              "      <td>5830.979663</td>\n",
              "    </tr>\n",
              "    <tr>\n",
              "      <th>14</th>\n",
              "      <td>92.0</td>\n",
              "      <td>102.380195</td>\n",
              "    </tr>\n",
              "    <tr>\n",
              "      <th>15</th>\n",
              "      <td>502.0</td>\n",
              "      <td>467.613630</td>\n",
              "    </tr>\n",
              "    <tr>\n",
              "      <th>16</th>\n",
              "      <td>567.0</td>\n",
              "      <td>628.243473</td>\n",
              "    </tr>\n",
              "    <tr>\n",
              "      <th>17</th>\n",
              "      <td>2195.0</td>\n",
              "      <td>2906.868743</td>\n",
              "    </tr>\n",
              "    <tr>\n",
              "      <th>18</th>\n",
              "      <td>369.0</td>\n",
              "      <td>517.770832</td>\n",
              "    </tr>\n",
              "    <tr>\n",
              "      <th>19</th>\n",
              "      <td>4606.0</td>\n",
              "      <td>3898.991284</td>\n",
              "    </tr>\n",
              "    <tr>\n",
              "      <th>20</th>\n",
              "      <td>1783.0</td>\n",
              "      <td>1782.951053</td>\n",
              "    </tr>\n",
              "    <tr>\n",
              "      <th>21</th>\n",
              "      <td>2521.0</td>\n",
              "      <td>2115.157840</td>\n",
              "    </tr>\n",
              "    <tr>\n",
              "      <th>22</th>\n",
              "      <td>2069.0</td>\n",
              "      <td>1331.412503</td>\n",
              "    </tr>\n",
              "    <tr>\n",
              "      <th>23</th>\n",
              "      <td>5474.0</td>\n",
              "      <td>4892.612748</td>\n",
              "    </tr>\n",
              "    <tr>\n",
              "      <th>24</th>\n",
              "      <td>257.0</td>\n",
              "      <td>161.410460</td>\n",
              "    </tr>\n",
              "    <tr>\n",
              "      <th>25</th>\n",
              "      <td>48.0</td>\n",
              "      <td>29.039563</td>\n",
              "    </tr>\n",
              "    <tr>\n",
              "      <th>26</th>\n",
              "      <td>1171.0</td>\n",
              "      <td>710.128733</td>\n",
              "    </tr>\n",
              "    <tr>\n",
              "      <th>27</th>\n",
              "      <td>1947.0</td>\n",
              "      <td>1215.870450</td>\n",
              "    </tr>\n",
              "    <tr>\n",
              "      <th>28</th>\n",
              "      <td>7096.0</td>\n",
              "      <td>6347.353200</td>\n",
              "    </tr>\n",
              "    <tr>\n",
              "      <th>29</th>\n",
              "      <td>1048.0</td>\n",
              "      <td>652.237653</td>\n",
              "    </tr>\n",
              "    <tr>\n",
              "      <th>30</th>\n",
              "      <td>1054.0</td>\n",
              "      <td>1097.845904</td>\n",
              "    </tr>\n",
              "    <tr>\n",
              "      <th>31</th>\n",
              "      <td>593.0</td>\n",
              "      <td>492.128110</td>\n",
              "    </tr>\n",
              "    <tr>\n",
              "      <th>32</th>\n",
              "      <td>1038.0</td>\n",
              "      <td>1180.987614</td>\n",
              "    </tr>\n",
              "    <tr>\n",
              "      <th>33</th>\n",
              "      <td>901.0</td>\n",
              "      <td>510.031588</td>\n",
              "    </tr>\n",
              "    <tr>\n",
              "      <th>34</th>\n",
              "      <td>2029.0</td>\n",
              "      <td>1252.784922</td>\n",
              "    </tr>\n",
              "    <tr>\n",
              "      <th>35</th>\n",
              "      <td>2579.0</td>\n",
              "      <td>2136.226302</td>\n",
              "    </tr>\n",
              "    <tr>\n",
              "      <th>36</th>\n",
              "      <td>2917.0</td>\n",
              "      <td>2145.248037</td>\n",
              "    </tr>\n",
              "    <tr>\n",
              "      <th>37</th>\n",
              "      <td>1044.0</td>\n",
              "      <td>788.455235</td>\n",
              "    </tr>\n",
              "    <tr>\n",
              "      <th>38</th>\n",
              "      <td>2666.0</td>\n",
              "      <td>2101.686684</td>\n",
              "    </tr>\n",
              "    <tr>\n",
              "      <th>39</th>\n",
              "      <td>578.0</td>\n",
              "      <td>596.009425</td>\n",
              "    </tr>\n",
              "  </tbody>\n",
              "</table>\n",
              "</div>"
            ],
            "text/plain": [
              "    test_out_PG  test_pred_PG\n",
              "0        1460.0    982.104675\n",
              "1        1002.0    639.790207\n",
              "2        2214.0   1377.309254\n",
              "3         779.0   1093.477080\n",
              "4         490.0    306.211337\n",
              "5         584.0    485.213137\n",
              "6         266.0    419.672985\n",
              "7        2900.0   3189.635067\n",
              "8         648.0    580.876155\n",
              "9        1480.0   1407.819898\n",
              "10         51.0    108.830635\n",
              "11        261.0    458.978673\n",
              "12        319.0    291.136672\n",
              "13       7109.0   5830.979663\n",
              "14         92.0    102.380195\n",
              "15        502.0    467.613630\n",
              "16        567.0    628.243473\n",
              "17       2195.0   2906.868743\n",
              "18        369.0    517.770832\n",
              "19       4606.0   3898.991284\n",
              "20       1783.0   1782.951053\n",
              "21       2521.0   2115.157840\n",
              "22       2069.0   1331.412503\n",
              "23       5474.0   4892.612748\n",
              "24        257.0    161.410460\n",
              "25         48.0     29.039563\n",
              "26       1171.0    710.128733\n",
              "27       1947.0   1215.870450\n",
              "28       7096.0   6347.353200\n",
              "29       1048.0    652.237653\n",
              "30       1054.0   1097.845904\n",
              "31        593.0    492.128110\n",
              "32       1038.0   1180.987614\n",
              "33        901.0    510.031588\n",
              "34       2029.0   1252.784922\n",
              "35       2579.0   2136.226302\n",
              "36       2917.0   2145.248037\n",
              "37       1044.0    788.455235\n",
              "38       2666.0   2101.686684\n",
              "39        578.0    596.009425"
            ]
          },
          "metadata": {
            "tags": []
          },
          "execution_count": 20
        },
        {
          "output_type": "display_data",
          "data": {
            "image/png": "[encoded data removed]",
            "text/plain": [
              "<Figure size 432x288 with 1 Axes>"
            ]
          },
          "metadata": {
            "tags": [],
            "needs_background": "light"
          }
        }
      ]
    },
    {
      "cell_type": "markdown",
      "metadata": {
        "id": "i4cMhEd3Mkxj"
      },
      "source": [
        "## Save model"
      ]
    },
    {
      "cell_type": "code",
      "metadata": {
        "id": "IiNdxvzvpkOv"
      },
      "source": [
        "from keras.models import load_model\n",
        "\n",
        "best_model.save('tuner_2layers_model.h5')"
      ],
      "execution_count": 21,
      "outputs": []
    },
    {
      "cell_type": "markdown",
      "metadata": {
        "id": "oucsAwRktibr"
      },
      "source": [
        "## Sensitivity Analysis"
      ]
    },
    {
      "cell_type": "code",
      "metadata": {
        "id": "cl2QPFjjqJo2"
      },
      "source": [
        "def sensitivity_analysis(variable, targets):\n",
        "  _corr = variable.corrwith(targets)\n",
        "  columns = variable.columns\n",
        "  color = np.where(_corr > 0, 'r', np.where(_corr > 0, _corr, 'b'))\n",
        "\n",
        "  plt.figure(figsize=(10, 5))\n",
        "  plt.barh(columns, _corr, color=color)\n",
        "  plt.xticks(np.arange(-1, 1, 0.1))\n",
        "  plt.show()"
      ],
      "execution_count": 22,
      "outputs": []
    },
    {
      "cell_type": "code",
      "metadata": {
        "id": "FPXHfKp_pUNB",
        "colab": {
          "base_uri": "https://localhost:8080/",
          "height": 320
        },
        "outputId": "7f260062-f4ed-4256-c5e9-cbb8ba8d0048"
      },
      "source": [
        "sensitivity_analysis(test_inp_i, test_pred_LH)"
      ],
      "execution_count": 23,
      "outputs": [
        {
          "output_type": "display_data",
          "data": {
            "image/png": "[encoded data removed]",
            "text/plain": [
              "<Figure size 720x360 with 1 Axes>"
            ]
          },
          "metadata": {
            "tags": [],
            "needs_background": "light"
          }
        }
      ]
    },
    {
      "cell_type": "code",
      "metadata": {
        "id": "e1nlmMVSqBOE",
        "colab": {
          "base_uri": "https://localhost:8080/",
          "height": 320
        },
        "outputId": "1ff7f5b4-a37c-455c-caf4-3fe126e7b40c"
      },
      "source": [
        "sensitivity_analysis(test_inp_i, test_pred_PG)"
      ],
      "execution_count": 24,
      "outputs": [
        {
          "output_type": "display_data",
          "data": {
            "image/png": "[encoded data removed]",
            "text/plain": [
              "<Figure size 720x360 with 1 Axes>"
            ]
          },
          "metadata": {
            "tags": [],
            "needs_background": "light"
          }
        }
      ]
    },
    {
      "cell_type": "markdown",
      "metadata": {
        "id": "QcBFh1otKn1J"
      },
      "source": [
        "## Load model"
      ]
    },
    {
      "cell_type": "code",
      "metadata": {
        "id": "EYlM2phiKrCB"
      },
      "source": [
        "model = load_model('tuner_2layers_model.h5')"
      ],
      "execution_count": null,
      "outputs": []
    }
  ]
}