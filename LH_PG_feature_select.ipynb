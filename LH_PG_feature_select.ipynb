{
  "nbformat": 4,
  "nbformat_minor": 0,
  "metadata": {
    "colab": {
      "name": "LH-PG_DNN keras tuner feature select",
      "provenance": [],
      "collapsed_sections": [],
      "authorship_tag": "ABX9TyNIzdWxINGVpZ3YHocZoO02",
      "include_colab_link": true
    },
    "kernelspec": {
      "name": "python3",
      "display_name": "Python 3"
    },
    "accelerator": "GPU"
  },
  "cells": [
    {
      "cell_type": "markdown",
      "metadata": {
        "id": "view-in-github",
        "colab_type": "text"
      },
      "source": [
        "<a href=\"https://colab.research.google.com/github/SYongho/Estimated-LH-PG-in-horizontal-pipe/blob/10-Inputs/LH_PG_feature_select.ipynb\" target=\"_parent\"><img src=\"https://colab.research.google.com/assets/colab-badge.svg\" alt=\"Open In Colab\"/></a>"
      ]
    },
    {
      "cell_type": "markdown",
      "metadata": {
        "id": "FVHFTVbeh393"
      },
      "source": [
        "# Import"
      ]
    },
    {
      "cell_type": "code",
      "metadata": {
        "id": "j-odbqLX89MP"
      },
      "source": [
        "import pandas as pd\n",
        "import numpy as np\n",
        "import matplotlib.pyplot as plt\n",
        "\n",
        "from sklearn import metrics\n",
        "from sklearn.model_selection import train_test_split\n",
        "from sklearn.feature_selection import SelectFromModel, RFE\n",
        "from sklearn.ensemble import RandomForestRegressor, ExtraTreesRegressor\n",
        "from sklearn.linear_model import LogisticRegression"
      ],
      "execution_count": 14,
      "outputs": []
    },
    {
      "cell_type": "markdown",
      "metadata": {
        "id": "_ynI-E1IANS1"
      },
      "source": [
        "# Data split"
      ]
    },
    {
      "cell_type": "code",
      "metadata": {
        "id": "kR6iUcxVnK0k"
      },
      "source": [
        "prepared_data = pd.read_csv('prepared_data.csv')\n",
        "\n",
        "csv_inp = prepared_data.iloc[:, :10]\n",
        "csv_out_LH = prepared_data.iloc[:, [10]]\n",
        "csv_out_PG = prepared_data.iloc[:, [11]]\n",
        "\n",
        "train_inp, val_inp, train_out_LH, val_out_LH = train_test_split(csv_inp, csv_out_LH, test_size=0.2, random_state=38)\n",
        "train_inp, test_inp, train_out_LH, test_out_LH = train_test_split(train_inp, train_out_LH, test_size=0.2, random_state=38)\n",
        "train_inp, val_inp, train_out_PG, val_out_PG = train_test_split(csv_inp, csv_out_PG, test_size=0.2, random_state=38)\n",
        "train_inp, test_inp, train_out_PG, test_out_PG = train_test_split(train_inp, train_out_PG, test_size=0.2, random_state=38)"
      ],
      "execution_count": 17,
      "outputs": []
    },
    {
      "cell_type": "code",
      "metadata": {
        "colab": {
          "base_uri": "https://localhost:8080/"
        },
        "id": "BI4ZLr0GFHdV",
        "outputId": "1a38dbad-5dc1-4f80-a70f-a6d4c7d592a4"
      },
      "source": [
        "select_ETR = RFE(ExtraTreesRegressor(random_state=38), n_features_to_select=10)\n",
        "fit = select_ETR.fit(train_inp, train_out_LH)\n",
        "train_inp_rfe = select_ETR.fit_transform(train_inp, train_out_LH)\n",
        "test_inp_rfe = select_ETR.transform(test_inp)\n",
        "print('Num Features_LH: {}'.format(fit.n_features_))\n",
        "print('Selected Features_LH: {}'.format(fit.support_))\n",
        "print('Feature Ranking_LH: {}'.format(fit.ranking_))\n",
        "\n",
        "select_ETR = RFE(ExtraTreesRegressor(random_state=38), n_features_to_select=10)\n",
        "fit = select_ETR.fit(train_inp, train_out_PG)\n",
        "train_inp_rfe = select_ETR.fit_transform(train_inp, train_out_PG)\n",
        "test_inp_rfe = select_ETR.transform(test_inp)\n",
        "print('Num Features_PG: {}'.format(fit.n_features_))\n",
        "print('Selected Features_PG: {}'.format(fit.support_))\n",
        "print('Feature Ranking_PG: {}'.format(fit.ranking_))"
      ],
      "execution_count": 20,
      "outputs": [
        {
          "output_type": "stream",
          "text": [
            "/usr/local/lib/python3.6/dist-packages/sklearn/utils/validation.py:760: DataConversionWarning: A column-vector y was passed when a 1d array was expected. Please change the shape of y to (n_samples, ), for example using ravel().\n",
            "  y = column_or_1d(y, warn=True)\n",
            "/usr/local/lib/python3.6/dist-packages/sklearn/utils/validation.py:760: DataConversionWarning: A column-vector y was passed when a 1d array was expected. Please change the shape of y to (n_samples, ), for example using ravel().\n",
            "  y = column_or_1d(y, warn=True)\n"
          ],
          "name": "stderr"
        },
        {
          "output_type": "stream",
          "text": [
            "Num Features_LH: 10\n",
            "Selected Features_LH: [ True  True  True  True  True  True  True  True  True  True]\n",
            "Feature Ranking_LH: [1 1 1 1 1 1 1 1 1 1]\n"
          ],
          "name": "stdout"
        },
        {
          "output_type": "stream",
          "text": [
            "/usr/local/lib/python3.6/dist-packages/sklearn/utils/validation.py:760: DataConversionWarning: A column-vector y was passed when a 1d array was expected. Please change the shape of y to (n_samples, ), for example using ravel().\n",
            "  y = column_or_1d(y, warn=True)\n",
            "/usr/local/lib/python3.6/dist-packages/sklearn/utils/validation.py:760: DataConversionWarning: A column-vector y was passed when a 1d array was expected. Please change the shape of y to (n_samples, ), for example using ravel().\n",
            "  y = column_or_1d(y, warn=True)\n"
          ],
          "name": "stderr"
        },
        {
          "output_type": "stream",
          "text": [
            "Num Features_PG: 10\n",
            "Selected Features_PG: [ True  True  True  True  True  True  True  True  True  True]\n",
            "Feature Ranking_PG: [1 1 1 1 1 1 1 1 1 1]\n"
          ],
          "name": "stdout"
        }
      ]
    },
    {
      "cell_type": "code",
      "metadata": {
        "colab": {
          "base_uri": "https://localhost:8080/"
        },
        "id": "wDC3VXOT_UtJ",
        "outputId": "a506249d-9cc8-4189-d9af-0e0c2d949419"
      },
      "source": [
        "select_RFR = RFE(RandomForestRegressor(n_estimators=100, random_state=38), n_features_to_select=10)\n",
        "fit = select_RFR.fit(train_inp, train_out_LH)\n",
        "train_inp_rfe = select_RFR.fit_transform(train_inp, train_out_LH)\n",
        "test_inp_rfe = select_RFR.transform(test_inp)\n",
        "print('Num Features_LH: {}'.format(fit.n_features_))\n",
        "print('Selected Features_LH: {}'.format(fit.support_))\n",
        "print('Feature Ranking_LH: {}'.format(fit.ranking_))\n",
        "\n",
        "select_RFR = RFE(RandomForestRegressor(n_estimators=100, random_state=38), n_features_to_select=10)\n",
        "fit = select_RFR.fit(train_inp, train_out_PG)\n",
        "train_inp_rfe = select_RFR.fit_transform(train_inp, train_out_PG)\n",
        "test_inp_rfe = select_RFR.transform(test_inp)\n",
        "print('Num Features_PG: {}'.format(fit.n_features_))\n",
        "print('Selected Features_PG: {}'.format(fit.support_))\n",
        "print('Feature Ranking_PG: {}'.format(fit.ranking_))"
      ],
      "execution_count": 21,
      "outputs": [
        {
          "output_type": "stream",
          "text": [
            "/usr/local/lib/python3.6/dist-packages/sklearn/utils/validation.py:760: DataConversionWarning: A column-vector y was passed when a 1d array was expected. Please change the shape of y to (n_samples, ), for example using ravel().\n",
            "  y = column_or_1d(y, warn=True)\n",
            "/usr/local/lib/python3.6/dist-packages/sklearn/utils/validation.py:760: DataConversionWarning: A column-vector y was passed when a 1d array was expected. Please change the shape of y to (n_samples, ), for example using ravel().\n",
            "  y = column_or_1d(y, warn=True)\n"
          ],
          "name": "stderr"
        },
        {
          "output_type": "stream",
          "text": [
            "Num Features_LH: 10\n",
            "Selected Features_LH: [ True  True  True  True  True  True  True  True  True  True]\n",
            "Feature Ranking_LH: [1 1 1 1 1 1 1 1 1 1]\n"
          ],
          "name": "stdout"
        },
        {
          "output_type": "stream",
          "text": [
            "/usr/local/lib/python3.6/dist-packages/sklearn/utils/validation.py:760: DataConversionWarning: A column-vector y was passed when a 1d array was expected. Please change the shape of y to (n_samples, ), for example using ravel().\n",
            "  y = column_or_1d(y, warn=True)\n",
            "/usr/local/lib/python3.6/dist-packages/sklearn/utils/validation.py:760: DataConversionWarning: A column-vector y was passed when a 1d array was expected. Please change the shape of y to (n_samples, ), for example using ravel().\n",
            "  y = column_or_1d(y, warn=True)\n"
          ],
          "name": "stderr"
        },
        {
          "output_type": "stream",
          "text": [
            "Num Features_PG: 10\n",
            "Selected Features_PG: [ True  True  True  True  True  True  True  True  True  True]\n",
            "Feature Ranking_PG: [1 1 1 1 1 1 1 1 1 1]\n"
          ],
          "name": "stdout"
        }
      ]
    },
    {
      "cell_type": "code",
      "metadata": {
        "colab": {
          "base_uri": "https://localhost:8080/",
          "height": 397
        },
        "id": "wL96dsbn-LFY",
        "outputId": "09cc3192-e76b-42af-dc6d-76ddce009677"
      },
      "source": [
        "select = SelectFromModel(RandomForestRegressor(n_estimators=80, random_state=38), threshold='median')\n",
        "select.fit(train_inp, train_out_LH)\n",
        "train_inp_sl = select.transform(train_inp)\n",
        "look = select.get_support()\n",
        "plt.matshow(look.reshape(1, -1), cmap='summer_r')\n",
        "plt.xlabel('feature number_LH')\n",
        "\n",
        "select = SelectFromModel(RandomForestRegressor(n_estimators=80, random_state=38), threshold='median')\n",
        "select.fit(train_inp, train_out_PG)\n",
        "train_inp_sl = select.transform(train_inp)\n",
        "look = select.get_support()\n",
        "plt.matshow(look.reshape(1, -1), cmap='summer_r')\n",
        "plt.xlabel('feature number_PG')"
      ],
      "execution_count": 22,
      "outputs": [
        {
          "output_type": "stream",
          "text": [
            "/usr/local/lib/python3.6/dist-packages/sklearn/feature_selection/_from_model.py:222: DataConversionWarning: A column-vector y was passed when a 1d array was expected. Please change the shape of y to (n_samples,), for example using ravel().\n",
            "  self.estimator_.fit(X, y, **fit_params)\n",
            "/usr/local/lib/python3.6/dist-packages/sklearn/feature_selection/_from_model.py:222: DataConversionWarning: A column-vector y was passed when a 1d array was expected. Please change the shape of y to (n_samples,), for example using ravel().\n",
            "  self.estimator_.fit(X, y, **fit_params)\n"
          ],
          "name": "stderr"
        },
        {
          "output_type": "execute_result",
          "data": {
            "text/plain": [
              "Text(0.5, 0, 'feature number_PG')"
            ]
          },
          "metadata": {
            "tags": []
          },
          "execution_count": 22
        },
        {
          "output_type": "display_data",
          "data": {
            "image/png": "[encoded data removed]",
            "text/plain": [
              "<Figure size 1152x144 with 1 Axes>"
            ]
          },
          "metadata": {
            "tags": [],
            "needs_background": "light"
          }
        },
        {
          "output_type": "display_data",
          "data": {
            "image/png": "[encoded data removed]",
            "text/plain": [
              "<Figure size 1152x144 with 1 Axes>"
            ]
          },
          "metadata": {
            "tags": [],
            "needs_background": "light"
          }
        }
      ]
    },
    {
      "cell_type": "code",
      "metadata": {
        "colab": {
          "base_uri": "https://localhost:8080/",
          "height": 419
        },
        "id": "Fj4JP_M_tkMD",
        "outputId": "8d88320d-c626-4025-fbe9-d8a51106a6d1"
      },
      "source": [
        "train_inp"
      ],
      "execution_count": 23,
      "outputs": [
        {
          "output_type": "execute_result",
          "data": {
            "text/html": [
              "<div>\n",
              "<style scoped>\n",
              "    .dataframe tbody tr th:only-of-type {\n",
              "        vertical-align: middle;\n",
              "    }\n",
              "\n",
              "    .dataframe tbody tr th {\n",
              "        vertical-align: top;\n",
              "    }\n",
              "\n",
              "    .dataframe thead th {\n",
              "        text-align: right;\n",
              "    }\n",
              "</style>\n",
              "<table border=\"1\" class=\"dataframe\">\n",
              "  <thead>\n",
              "    <tr style=\"text-align: right;\">\n",
              "      <th></th>\n",
              "      <th>SystPressureGL</th>\n",
              "      <th>SystTempGL/C</th>\n",
              "      <th>PipeDiaGL</th>\n",
              "      <th>PipeIncliGL</th>\n",
              "      <th>GasSuperficialVelGL</th>\n",
              "      <th>GasDensityGL</th>\n",
              "      <th>GasViscosityGL</th>\n",
              "      <th>Liq1SuperficialVelGL</th>\n",
              "      <th>Liq1DensityGL</th>\n",
              "      <th>Liq1ViscosityGL</th>\n",
              "    </tr>\n",
              "  </thead>\n",
              "  <tbody>\n",
              "    <tr>\n",
              "      <th>471</th>\n",
              "      <td>36900.00</td>\n",
              "      <td>23.20</td>\n",
              "      <td>0.0508</td>\n",
              "      <td>1</td>\n",
              "      <td>16.30</td>\n",
              "      <td>1.63</td>\n",
              "      <td>0.000019</td>\n",
              "      <td>0.01</td>\n",
              "      <td>885.41</td>\n",
              "      <td>0.01</td>\n",
              "    </tr>\n",
              "    <tr>\n",
              "      <th>579</th>\n",
              "      <td>28800.00</td>\n",
              "      <td>23.60</td>\n",
              "      <td>0.0508</td>\n",
              "      <td>-2</td>\n",
              "      <td>10.50</td>\n",
              "      <td>1.53</td>\n",
              "      <td>0.000019</td>\n",
              "      <td>0.01</td>\n",
              "      <td>885.13</td>\n",
              "      <td>0.01</td>\n",
              "    </tr>\n",
              "    <tr>\n",
              "      <th>122</th>\n",
              "      <td>125396.22</td>\n",
              "      <td>32.39</td>\n",
              "      <td>0.0508</td>\n",
              "      <td>0</td>\n",
              "      <td>0.50</td>\n",
              "      <td>1.43</td>\n",
              "      <td>0.000018</td>\n",
              "      <td>0.50</td>\n",
              "      <td>877.00</td>\n",
              "      <td>0.25</td>\n",
              "    </tr>\n",
              "    <tr>\n",
              "      <th>44</th>\n",
              "      <td>174860.49</td>\n",
              "      <td>21.18</td>\n",
              "      <td>0.0508</td>\n",
              "      <td>0</td>\n",
              "      <td>1.01</td>\n",
              "      <td>2.07</td>\n",
              "      <td>0.000018</td>\n",
              "      <td>0.80</td>\n",
              "      <td>883.00</td>\n",
              "      <td>0.58</td>\n",
              "    </tr>\n",
              "    <tr>\n",
              "      <th>387</th>\n",
              "      <td>28600.00</td>\n",
              "      <td>22.60</td>\n",
              "      <td>0.0508</td>\n",
              "      <td>-1</td>\n",
              "      <td>4.80</td>\n",
              "      <td>1.53</td>\n",
              "      <td>0.000019</td>\n",
              "      <td>0.05</td>\n",
              "      <td>885.84</td>\n",
              "      <td>0.01</td>\n",
              "    </tr>\n",
              "    <tr>\n",
              "      <th>...</th>\n",
              "      <td>...</td>\n",
              "      <td>...</td>\n",
              "      <td>...</td>\n",
              "      <td>...</td>\n",
              "      <td>...</td>\n",
              "      <td>...</td>\n",
              "      <td>...</td>\n",
              "      <td>...</td>\n",
              "      <td>...</td>\n",
              "      <td>...</td>\n",
              "    </tr>\n",
              "    <tr>\n",
              "      <th>631</th>\n",
              "      <td>261106.08</td>\n",
              "      <td>22.90</td>\n",
              "      <td>0.0762</td>\n",
              "      <td>-1</td>\n",
              "      <td>4.93</td>\n",
              "      <td>3.07</td>\n",
              "      <td>0.000018</td>\n",
              "      <td>0.05</td>\n",
              "      <td>858.11</td>\n",
              "      <td>0.01</td>\n",
              "    </tr>\n",
              "    <tr>\n",
              "      <th>373</th>\n",
              "      <td>36200.00</td>\n",
              "      <td>23.00</td>\n",
              "      <td>0.0508</td>\n",
              "      <td>-1</td>\n",
              "      <td>16.10</td>\n",
              "      <td>1.62</td>\n",
              "      <td>0.000019</td>\n",
              "      <td>0.00</td>\n",
              "      <td>885.55</td>\n",
              "      <td>0.01</td>\n",
              "    </tr>\n",
              "    <tr>\n",
              "      <th>708</th>\n",
              "      <td>343085.25</td>\n",
              "      <td>21.80</td>\n",
              "      <td>0.0259</td>\n",
              "      <td>-9</td>\n",
              "      <td>1.64</td>\n",
              "      <td>4.05</td>\n",
              "      <td>0.000018</td>\n",
              "      <td>0.06</td>\n",
              "      <td>858.75</td>\n",
              "      <td>0.01</td>\n",
              "    </tr>\n",
              "    <tr>\n",
              "      <th>691</th>\n",
              "      <td>257038.14</td>\n",
              "      <td>24.10</td>\n",
              "      <td>0.0513</td>\n",
              "      <td>0</td>\n",
              "      <td>1.94</td>\n",
              "      <td>3.01</td>\n",
              "      <td>0.000018</td>\n",
              "      <td>0.03</td>\n",
              "      <td>857.31</td>\n",
              "      <td>0.01</td>\n",
              "    </tr>\n",
              "    <tr>\n",
              "      <th>153</th>\n",
              "      <td>108072.35</td>\n",
              "      <td>38.06</td>\n",
              "      <td>0.0508</td>\n",
              "      <td>0</td>\n",
              "      <td>0.70</td>\n",
              "      <td>1.21</td>\n",
              "      <td>0.000018</td>\n",
              "      <td>0.21</td>\n",
              "      <td>873.80</td>\n",
              "      <td>0.18</td>\n",
              "    </tr>\n",
              "  </tbody>\n",
              "</table>\n",
              "<p>496 rows × 10 columns</p>\n",
              "</div>"
            ],
            "text/plain": [
              "     SystPressureGL  SystTempGL/C  ...  Liq1DensityGL  Liq1ViscosityGL\n",
              "471        36900.00         23.20  ...         885.41             0.01\n",
              "579        28800.00         23.60  ...         885.13             0.01\n",
              "122       125396.22         32.39  ...         877.00             0.25\n",
              "44        174860.49         21.18  ...         883.00             0.58\n",
              "387        28600.00         22.60  ...         885.84             0.01\n",
              "..              ...           ...  ...            ...              ...\n",
              "631       261106.08         22.90  ...         858.11             0.01\n",
              "373        36200.00         23.00  ...         885.55             0.01\n",
              "708       343085.25         21.80  ...         858.75             0.01\n",
              "691       257038.14         24.10  ...         857.31             0.01\n",
              "153       108072.35         38.06  ...         873.80             0.18\n",
              "\n",
              "[496 rows x 10 columns]"
            ]
          },
          "metadata": {
            "tags": []
          },
          "execution_count": 23
        }
      ]
    }
  ]
}