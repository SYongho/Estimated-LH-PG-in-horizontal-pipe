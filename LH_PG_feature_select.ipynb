{
  "nbformat": 4,
  "nbformat_minor": 0,
  "metadata": {
    "colab": {
      "name": "LH-PG_feature select",
      "provenance": [],
      "collapsed_sections": [
        "FVHFTVbeh393",
        "aAs9rBTsX_Rp"
      ],
      "toc_visible": true,
      "authorship_tag": "ABX9TyMEpIMShXlM13OdQkqVDX/0",
      "include_colab_link": true
    },
    "kernelspec": {
      "name": "python3",
      "display_name": "Python 3"
    },
    "accelerator": "GPU"
  },
  "cells": [
    {
      "cell_type": "markdown",
      "metadata": {
        "id": "view-in-github",
        "colab_type": "text"
      },
      "source": [
        "<a href=\"https://colab.research.google.com/github/SYongho/Estimated-LH-PG-in-horizontal-pipe/blob/main/LH_PG_feature_select.ipynb\" target=\"_parent\"><img src=\"https://colab.research.google.com/assets/colab-badge.svg\" alt=\"Open In Colab\"/></a>"
      ]
    },
    {
      "cell_type": "markdown",
      "metadata": {
        "id": "FVHFTVbeh393"
      },
      "source": [
        "# Import"
      ]
    },
    {
      "cell_type": "code",
      "metadata": {
        "id": "j-odbqLX89MP"
      },
      "source": [
        "import pandas as pd\n",
        "import numpy as np\n",
        "import matplotlib.pyplot as plt\n",
        "\n",
        "from sklearn import metrics\n",
        "from sklearn.model_selection import train_test_split\n",
        "from sklearn.feature_selection import SelectFromModel, RFE\n",
        "from sklearn.ensemble import RandomForestRegressor, ExtraTreesRegressor\n",
        "from sklearn.linear_model import LogisticRegression"
      ],
      "execution_count": 2,
      "outputs": []
    },
    {
      "cell_type": "markdown",
      "metadata": {
        "id": "_ynI-E1IANS1"
      },
      "source": [
        "# Data split"
      ]
    },
    {
      "cell_type": "markdown",
      "metadata": {
        "id": "aAs9rBTsX_Rp"
      },
      "source": [
        "### 10 inputs"
      ]
    },
    {
      "cell_type": "code",
      "metadata": {
        "id": "kR6iUcxVnK0k"
      },
      "source": [
        "prepared_data = pd.read_csv('prepared_data.csv')\n",
        "\n",
        "csv_inp = prepared_data.iloc[:, :10]\n",
        "csv_out_LH = prepared_data.iloc[:, [10]]\n",
        "csv_out_PG = prepared_data.iloc[:, [11]]\n",
        "\n",
        "train_inp, test_inp, train_out_LH, test_out_LH = train_test_split(csv_inp, csv_out_LH, test_size=0.2, random_state=38)\n",
        "train_inp, val_inp, train_out_LH, val_out_LH = train_test_split(train_inp, train_out_LH, test_size=0.11, random_state=38)\n",
        "train_inp, test_inp, train_out_PG, test_out_PG = train_test_split(csv_inp, csv_out_PG, test_size=0.2, random_state=38)\n",
        "train_inp, val_inp, train_out_PG, val_out_PG = train_test_split(train_inp, train_out_PG, test_size=0.11, random_state=38)"
      ],
      "execution_count": null,
      "outputs": []
    },
    {
      "cell_type": "markdown",
      "metadata": {
        "id": "RvvnNS7tYIXT"
      },
      "source": [
        "### 5 inputs"
      ]
    },
    {
      "cell_type": "code",
      "metadata": {
        "id": "G7gg56C2YPTP"
      },
      "source": [
        "csv_inp = pd.read_csv('ins.csv')\n",
        "csv_out = pd.read_csv('outs.csv')\n",
        "csv_out_LH = csv_out.iloc[:, 0]\n",
        "csv_out_PG = csv_out.iloc[:, 1]\n",
        "\n",
        "train_inp, test_inp, train_out_LH, test_out_LH = train_test_split(csv_inp, csv_out_LH, test_size=0.2, random_state=38)\n",
        "train_inp, val_inp, train_out_LH, val_out_LH = train_test_split(train_inp, train_out_LH, test_size=0.11, random_state=38)\n",
        "train_inp, test_inp, train_out_PG, test_out_PG = train_test_split(csv_inp, csv_out_PG, test_size=0.2, random_state=38)\n",
        "train_inp, val_inp, train_out_PG, val_out_PG = train_test_split(train_inp, train_out_PG, test_size=0.11, random_state=38)"
      ],
      "execution_count": 3,
      "outputs": []
    },
    {
      "cell_type": "markdown",
      "metadata": {
        "id": "h0nZ6pDDYQlP"
      },
      "source": [
        "# Feature select"
      ]
    },
    {
      "cell_type": "code",
      "metadata": {
        "colab": {
          "base_uri": "https://localhost:8080/"
        },
        "id": "BI4ZLr0GFHdV",
        "outputId": "13f2171c-d6d2-4ade-e452-79b1d60a61f5"
      },
      "source": [
        "select_ETR = RFE(ExtraTreesRegressor(random_state=38), n_features_to_select=10)\n",
        "fit = select_ETR.fit(train_inp, train_out_LH)\n",
        "train_inp_rfe = select_ETR.fit_transform(train_inp, train_out_LH)\n",
        "test_inp_rfe = select_ETR.transform(test_inp)\n",
        "print('Num Features_LH: {}'.format(fit.n_features_))\n",
        "print('Selected Features_LH: {}'.format(fit.support_))\n",
        "print('Feature Ranking_LH: {}'.format(fit.ranking_))\n",
        "\n",
        "select_ETR = RFE(ExtraTreesRegressor(random_state=38), n_features_to_select=10)\n",
        "fit = select_ETR.fit(train_inp, train_out_PG)\n",
        "train_inp_rfe = select_ETR.fit_transform(train_inp, train_out_PG)\n",
        "test_inp_rfe = select_ETR.transform(test_inp)\n",
        "print('Num Features_PG: {}'.format(fit.n_features_))\n",
        "print('Selected Features_PG: {}'.format(fit.support_))\n",
        "print('Feature Ranking_PG: {}'.format(fit.ranking_))"
      ],
      "execution_count": 4,
      "outputs": [
        {
          "output_type": "stream",
          "text": [
            "Num Features_LH: 5\n",
            "Selected Features_LH: [ True  True  True  True  True]\n",
            "Feature Ranking_LH: [1 1 1 1 1]\n",
            "Num Features_PG: 5\n",
            "Selected Features_PG: [ True  True  True  True  True]\n",
            "Feature Ranking_PG: [1 1 1 1 1]\n"
          ],
          "name": "stdout"
        }
      ]
    },
    {
      "cell_type": "code",
      "metadata": {
        "colab": {
          "base_uri": "https://localhost:8080/"
        },
        "id": "wDC3VXOT_UtJ",
        "outputId": "4bf0ea20-66da-4eb6-fc54-95a119848699"
      },
      "source": [
        "select_RFR = RFE(RandomForestRegressor(n_estimators=100, random_state=38), n_features_to_select=10)\n",
        "fit = select_RFR.fit(train_inp, train_out_LH)\n",
        "train_inp_rfe = select_RFR.fit_transform(train_inp, train_out_LH)\n",
        "test_inp_rfe = select_RFR.transform(test_inp)\n",
        "print('Num Features_LH: {}'.format(fit.n_features_))\n",
        "print('Selected Features_LH: {}'.format(fit.support_))\n",
        "print('Feature Ranking_LH: {}'.format(fit.ranking_))\n",
        "\n",
        "select_RFR = RFE(RandomForestRegressor(n_estimators=100, random_state=38), n_features_to_select=10)\n",
        "fit = select_RFR.fit(train_inp, train_out_PG)\n",
        "train_inp_rfe = select_RFR.fit_transform(train_inp, train_out_PG)\n",
        "test_inp_rfe = select_RFR.transform(test_inp)\n",
        "print('Num Features_PG: {}'.format(fit.n_features_))\n",
        "print('Selected Features_PG: {}'.format(fit.support_))\n",
        "print('Feature Ranking_PG: {}'.format(fit.ranking_))"
      ],
      "execution_count": 5,
      "outputs": [
        {
          "output_type": "stream",
          "text": [
            "Num Features_LH: 5\n",
            "Selected Features_LH: [ True  True  True  True  True]\n",
            "Feature Ranking_LH: [1 1 1 1 1]\n",
            "Num Features_PG: 5\n",
            "Selected Features_PG: [ True  True  True  True  True]\n",
            "Feature Ranking_PG: [1 1 1 1 1]\n"
          ],
          "name": "stdout"
        }
      ]
    },
    {
      "cell_type": "code",
      "metadata": {
        "colab": {
          "base_uri": "https://localhost:8080/",
          "height": 483
        },
        "id": "wL96dsbn-LFY",
        "outputId": "78bbc32b-1b71-442d-95cf-895611fd95f3"
      },
      "source": [
        "select = SelectFromModel(RandomForestRegressor(n_estimators=80, random_state=38), threshold='median')\n",
        "select.fit(train_inp, train_out_LH)\n",
        "train_inp_sl = select.transform(train_inp)\n",
        "look = select.get_support()\n",
        "plt.matshow(look.reshape(1, -1), cmap='summer_r')\n",
        "plt.xlabel('feature number_LH')\n",
        "\n",
        "select = SelectFromModel(RandomForestRegressor(n_estimators=80, random_state=38), threshold='median')\n",
        "select.fit(train_inp, train_out_PG)\n",
        "train_inp_sl = select.transform(train_inp)\n",
        "look = select.get_support()\n",
        "plt.matshow(look.reshape(1, -1), cmap='summer_r')\n",
        "plt.xlabel('feature number_PG')"
      ],
      "execution_count": 6,
      "outputs": [
        {
          "output_type": "execute_result",
          "data": {
            "text/plain": [
              "Text(0.5, 0, 'feature number_PG')"
            ]
          },
          "metadata": {
            "tags": []
          },
          "execution_count": 6
        },
        {
          "output_type": "display_data",
          "data": {
            "image/png": "[encoded data removed]",
            "text/plain": [
              "<Figure size 1152x230.4 with 1 Axes>"
            ]
          },
          "metadata": {
            "tags": [],
            "needs_background": "light"
          }
        },
        {
          "output_type": "display_data",
          "data": {
            "image/png": "[encoded data removed]",
            "text/plain": [
              "<Figure size 1152x230.4 with 1 Axes>"
            ]
          },
          "metadata": {
            "tags": [],
            "needs_background": "light"
          }
        }
      ]
    },
    {
      "cell_type": "code",
      "metadata": {
        "colab": {
          "base_uri": "https://localhost:8080/",
          "height": 419
        },
        "id": "Fj4JP_M_tkMD",
        "outputId": "5a513042-edce-49b4-a4a1-379548d37fd7"
      },
      "source": [
        "train_inp"
      ],
      "execution_count": 7,
      "outputs": [
        {
          "output_type": "execute_result",
          "data": {
            "text/html": [
              "<div>\n",
              "<style scoped>\n",
              "    .dataframe tbody tr th:only-of-type {\n",
              "        vertical-align: middle;\n",
              "    }\n",
              "\n",
              "    .dataframe tbody tr th {\n",
              "        vertical-align: top;\n",
              "    }\n",
              "\n",
              "    .dataframe thead th {\n",
              "        text-align: right;\n",
              "    }\n",
              "</style>\n",
              "<table border=\"1\" class=\"dataframe\">\n",
              "  <thead>\n",
              "    <tr style=\"text-align: right;\">\n",
              "      <th></th>\n",
              "      <th>Liquid superficial velocity</th>\n",
              "      <th>Gas superficial velocity</th>\n",
              "      <th>Temperature</th>\n",
              "      <th>Liquid Density</th>\n",
              "      <th>Gas Density</th>\n",
              "    </tr>\n",
              "  </thead>\n",
              "  <tbody>\n",
              "    <tr>\n",
              "      <th>266</th>\n",
              "      <td>1.73</td>\n",
              "      <td>1.51</td>\n",
              "      <td>37.9</td>\n",
              "      <td>870.4</td>\n",
              "      <td>2.16</td>\n",
              "    </tr>\n",
              "    <tr>\n",
              "      <th>57</th>\n",
              "      <td>0.50</td>\n",
              "      <td>5.00</td>\n",
              "      <td>21.2</td>\n",
              "      <td>880.0</td>\n",
              "      <td>2.20</td>\n",
              "    </tr>\n",
              "    <tr>\n",
              "      <th>25</th>\n",
              "      <td>0.05</td>\n",
              "      <td>0.68</td>\n",
              "      <td>21.0</td>\n",
              "      <td>884.2</td>\n",
              "      <td>1.30</td>\n",
              "    </tr>\n",
              "    <tr>\n",
              "      <th>279</th>\n",
              "      <td>0.21</td>\n",
              "      <td>1.54</td>\n",
              "      <td>26.9</td>\n",
              "      <td>880.2</td>\n",
              "      <td>1.33</td>\n",
              "    </tr>\n",
              "    <tr>\n",
              "      <th>13</th>\n",
              "      <td>0.50</td>\n",
              "      <td>19.80</td>\n",
              "      <td>26.8</td>\n",
              "      <td>880.0</td>\n",
              "      <td>2.90</td>\n",
              "    </tr>\n",
              "    <tr>\n",
              "      <th>...</th>\n",
              "      <td>...</td>\n",
              "      <td>...</td>\n",
              "      <td>...</td>\n",
              "      <td>...</td>\n",
              "      <td>...</td>\n",
              "    </tr>\n",
              "    <tr>\n",
              "      <th>28</th>\n",
              "      <td>1.34</td>\n",
              "      <td>10.40</td>\n",
              "      <td>21.1</td>\n",
              "      <td>874.0</td>\n",
              "      <td>4.50</td>\n",
              "    </tr>\n",
              "    <tr>\n",
              "      <th>304</th>\n",
              "      <td>0.10</td>\n",
              "      <td>1.06</td>\n",
              "      <td>32.0</td>\n",
              "      <td>877.0</td>\n",
              "      <td>1.40</td>\n",
              "    </tr>\n",
              "    <tr>\n",
              "      <th>0</th>\n",
              "      <td>0.10</td>\n",
              "      <td>0.52</td>\n",
              "      <td>32.3</td>\n",
              "      <td>877.1</td>\n",
              "      <td>1.22</td>\n",
              "    </tr>\n",
              "    <tr>\n",
              "      <th>307</th>\n",
              "      <td>0.10</td>\n",
              "      <td>0.71</td>\n",
              "      <td>26.8</td>\n",
              "      <td>880.1</td>\n",
              "      <td>1.28</td>\n",
              "    </tr>\n",
              "    <tr>\n",
              "      <th>221</th>\n",
              "      <td>0.11</td>\n",
              "      <td>10.60</td>\n",
              "      <td>21.4</td>\n",
              "      <td>884.0</td>\n",
              "      <td>1.50</td>\n",
              "    </tr>\n",
              "  </tbody>\n",
              "</table>\n",
              "<p>249 rows × 5 columns</p>\n",
              "</div>"
            ],
            "text/plain": [
              "     Liquid superficial velocity  ...  Gas Density\n",
              "266                         1.73  ...         2.16\n",
              "57                          0.50  ...         2.20\n",
              "25                          0.05  ...         1.30\n",
              "279                         0.21  ...         1.33\n",
              "13                          0.50  ...         2.90\n",
              "..                           ...  ...          ...\n",
              "28                          1.34  ...         4.50\n",
              "304                         0.10  ...         1.40\n",
              "0                           0.10  ...         1.22\n",
              "307                         0.10  ...         1.28\n",
              "221                         0.11  ...         1.50\n",
              "\n",
              "[249 rows x 5 columns]"
            ]
          },
          "metadata": {
            "tags": []
          },
          "execution_count": 7
        }
      ]
    }
  ]
}